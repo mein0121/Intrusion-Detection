{
 "cells": [
  {
   "cell_type": "markdown",
   "id": "growing-damages",
   "metadata": {},
   "source": [
    "### 컬럼  \n",
    "- duration: continuous\n",
    "    - length (number of seconds) of the connection \n",
    "- protocol_type: discrete\n",
    "    - type of the protocol\n",
    "        - tcp: Transmission Control Protocol\n",
    "        - udp: User Datagram Protocol    \n",
    "        - icmp: Internet Control Message Protocol\n",
    "- service: descrete\n",
    "    - network service on the destination\n",
    "        - http,private,domain_u,smtp,ftp_data등 총66개\n",
    "- flag: discrete\n",
    "    - normal or error status of the connection \n",
    "        - SF: Normal establish & termination (>0 byte counts)\n",
    "        - S0: Connection attempt seen, no reply\n",
    "        - S1: Connection established, not terminated (0 byte counts)\n",
    "        - S2: Established, ORIG attempts close, no reply from RESP.\n",
    "        - S3: Established, RESP attempts close, no reply from ORIG.\n",
    "        - REJ: Connection attempt rejected\n",
    "        - RSTO: Established, ORIG aborted (RST)\n",
    "        - RSTR: Established, RESP aborted (RST)\n",
    "        - RSTOS0: ORIG sent SYN then RST; no RESP SYN-ACK\n",
    "        - SH: ORIG sent SYN then FIN; no RESP SYN-ACK (“half-open”)\n",
    "        - OTH: No SYN, not closed. Midstream traffic. Partial connection.\n",
    "- src_bytes: continuous\n",
    "    - number of data bytes from source to destination\n",
    "- dst_bytes: continuous\n",
    "    - number of data bytes from destination to source \n",
    "- land: discrete\n",
    "    - local area network denial\n",
    "    - 1 if connection is from/to the same host/port; 0 otherwise\n",
    "- wrong_fragment: continuous\n",
    "    - number of wrong fragments \n",
    "- urgent: continuous\n",
    "    - number of urgent packets \n",
    "- hot: continuous\n",
    "    - number of hot indicators\n",
    "- num_failed_logins: continuous\n",
    "    - number of failed login attempts \n",
    "- logged_in: discrete\n",
    "    - 1 if successfully logged in; 0 otherwise \n",
    "- num_compromised: continuous\n",
    "    - number of compromised conditions \n",
    "- root_shell: discrete\n",
    "    - 1 if root shell is obtained; 0 otherwise "
   ]
  },
  {
   "cell_type": "markdown",
   "id": "earned-nebraska",
   "metadata": {},
   "source": [
    "- su_attempted : discrete\n",
    "    - 1 if ``su root'' command attempted; 0 otherwise\n",
    "        - su root : (리눅스) root 권한을 주는 명령어\n",
    "\n",
    "- num_root : continuous\n",
    "    - number of ``root'' accesses\n",
    "\n",
    "- num_file_creations : continuous\n",
    "    - number of file creation operations\n",
    "\n",
    "- num_shells : continuous\n",
    "    - number of shell prompts\n",
    "        - shell: (리눅스) 운영체제의 커널과 사용자 사이의 다리 역할\n",
    "        - shell prompt : 명령어 입력창\n",
    "\n",
    "- num_access_files : continuous\n",
    "    - number of operations on access control files\n",
    "\n",
    "- num_outbound_cmds : continuous\n",
    "    - number of outbound commands in an ftp session\n",
    "        - FTP - 파일을 교환하기 위한 표준 프로토콜(원하는 파일을 전송)\n",
    "\n",
    "- is_host_login : discrete\n",
    "    - 1 if the login belongs to the \"host\" list; 0 otherwise\n",
    "\n",
    "- is_guest_login : discrete\n",
    "    - 1 if the login is a \"guest\" login; 0 otherwise\n",
    "\n",
    "\n",
    "\n",
    "- count : continuous\n",
    "    - number of connections to the same host as the current connection in the past two seconds\n",
    "\n",
    "- srv_count :  - continuous\n",
    "    - number of connections to the same service as the current connection in the past two seconds\n",
    "\n",
    "- serror_rate : continuous\n",
    "    - % of connections that have \"SYN\" errors\n",
    "        - SYN error - syntax error(구문 오류)\n",
    "\n",
    "- srv_serror_rate : continuous\n",
    "    - % of connections that have \"SYN\" errors\n",
    "\n",
    "- rerror_rate : continuous\n",
    "    - % of connections that have ``REJ'' errors\n",
    "        - REJ error - Rejection error\n",
    "\n",
    "- srv_rerror_rate : continuous\n",
    "    - % of connections that have ``REJ'' errors\n",
    "\n",
    "- same_srv_rate : continuous\n",
    "    - % of connections to the same service\n"
   ]
  },
  {
   "cell_type": "markdown",
   "id": "pointed-custom",
   "metadata": {},
   "source": [
    "# 발표순서\n",
    "1. 데이터셋 설명\n",
    "2. 데이터셋을 사용해서 이용한 목적.\n",
    "3. 데이터셋 전처리 및 방법. 선택이유.\n",
    "- feature importance, scaler, label endcoding, pca.\n",
    "\n",
    "4. 데이터셋 나누기.\n",
    "5. 그리드서치\n",
    "6. 평가방법.\n",
    "\n",
    "\n",
    "\n",
    "7. 모델 선정 및 하이퍼파라미터 튜닝.\n",
    "\n",
    "8. conclusion."
   ]
  },
  {
   "cell_type": "markdown",
   "id": "operating-nitrogen",
   "metadata": {},
   "source": [
    "![image](confusion.png)"
   ]
  },
  {
   "cell_type": "code",
   "execution_count": null,
   "id": "recognized-beaver",
   "metadata": {},
   "outputs": [],
   "source": []
  },
  {
   "cell_type": "code",
   "execution_count": null,
   "id": "buried-transaction",
   "metadata": {},
   "outputs": [],
   "source": []
  },
  {
   "cell_type": "code",
   "execution_count": null,
   "id": "compressed-progress",
   "metadata": {},
   "outputs": [],
   "source": []
  },
  {
   "cell_type": "code",
   "execution_count": null,
   "id": "tough-boating",
   "metadata": {},
   "outputs": [],
   "source": []
  },
  {
   "cell_type": "code",
   "execution_count": null,
   "id": "induced-walker",
   "metadata": {},
   "outputs": [],
   "source": []
  },
  {
   "cell_type": "code",
   "execution_count": null,
   "id": "fallen-connection",
   "metadata": {},
   "outputs": [],
   "source": []
  },
  {
   "cell_type": "code",
   "execution_count": null,
   "id": "efficient-desperate",
   "metadata": {},
   "outputs": [],
   "source": []
  },
  {
   "cell_type": "code",
   "execution_count": null,
   "id": "filled-filename",
   "metadata": {},
   "outputs": [],
   "source": []
  },
  {
   "cell_type": "code",
   "execution_count": null,
   "id": "focal-connecticut",
   "metadata": {},
   "outputs": [],
   "source": []
  },
  {
   "cell_type": "code",
   "execution_count": null,
   "id": "threatened-finish",
   "metadata": {},
   "outputs": [],
   "source": []
  },
  {
   "cell_type": "code",
   "execution_count": null,
   "id": "bronze-rendering",
   "metadata": {},
   "outputs": [],
   "source": []
  },
  {
   "cell_type": "code",
   "execution_count": null,
   "id": "neural-imaging",
   "metadata": {},
   "outputs": [],
   "source": []
  },
  {
   "cell_type": "code",
   "execution_count": null,
   "id": "packed-thought",
   "metadata": {},
   "outputs": [],
   "source": []
  },
  {
   "cell_type": "code",
   "execution_count": null,
   "id": "painful-romantic",
   "metadata": {},
   "outputs": [],
   "source": []
  },
  {
   "cell_type": "code",
   "execution_count": null,
   "id": "respiratory-geometry",
   "metadata": {},
   "outputs": [],
   "source": []
  },
  {
   "cell_type": "code",
   "execution_count": null,
   "id": "unnecessary-startup",
   "metadata": {},
   "outputs": [],
   "source": []
  }
 ],
 "metadata": {
  "kernelspec": {
   "display_name": "Python 3",
   "language": "python",
   "name": "python3"
  },
  "language_info": {
   "codemirror_mode": {
    "name": "ipython",
    "version": 3
   },
   "file_extension": ".py",
   "mimetype": "text/x-python",
   "name": "python",
   "nbconvert_exporter": "python",
   "pygments_lexer": "ipython3",
   "version": "3.7.10"
  }
 },
 "nbformat": 4,
 "nbformat_minor": 5
}
