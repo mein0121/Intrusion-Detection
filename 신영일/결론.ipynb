{
 "cells": [
  {
   "cell_type": "markdown",
   "metadata": {},
   "source": [
    "# 결론"
   ]
  },
  {
   "cell_type": "markdown",
   "metadata": {},
   "source": [
    "## - 최종 모델의 선택 -\n",
    "### 부스팅 계열의 모델이 다소 시간이 걸리는 점을 고려해야 하나 전반적으로 성능이 뛰어 났음\n",
    "\n",
    "### ``False Positive``비율은 침입한걸 못 잡아낸 것이고 ``False negative`` 침입한 것이 아닌데 침입이라고 오해한 것\n",
    "### 정보보안의 특성상 거짓침입을 Positive로 예측하는 경우에는 다시 한번 방어시스템을 점검하는 것으로 족함\n",
    "### 그러나 진짜침입을 Negative로 예측하는 경우 정보보안시스템 전체에 치명적일 수 있음\n",
    "### 그래서 ``False Positive`` 비율은 낮아도 ``False Negative`` 비율이 높은 경우 좋은 예측모델이라고 평가할 수 없음\n",
    "### ``RandomForestClassifier``의 경우 ``False Positive``비율이 낮은 반면 ``False Negative``비율이 타 모델보다 높음\n",
    "\n",
    "### 최종적으로 ``False Positive``와 ``False Negative`` 비율이 모두 낮은 ``부스팅계열 모델``을 최종모델로 선택함"
   ]
  },
  {
   "cell_type": "code",
   "execution_count": null,
   "metadata": {},
   "outputs": [],
   "source": [
    "## 아쉬웠던 점"
   ]
  },
  {
   "cell_type": "code",
   "execution_count": null,
   "metadata": {},
   "outputs": [],
   "source": [
    "## 배운 점"
   ]
  }
 ],
 "metadata": {
  "kernelspec": {
   "display_name": "Python 3",
   "language": "python",
   "name": "python3"
  },
  "language_info": {
   "codemirror_mode": {
    "name": "ipython",
    "version": 3
   },
   "file_extension": ".py",
   "mimetype": "text/x-python",
   "name": "python",
   "nbconvert_exporter": "python",
   "pygments_lexer": "ipython3",
   "version": "3.8.5"
  }
 },
 "nbformat": 4,
 "nbformat_minor": 4
}
