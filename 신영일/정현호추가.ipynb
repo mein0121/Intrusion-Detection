{
  "nbformat": 4,
  "nbformat_minor": 0,
  "metadata": {
    "colab": {
      "name": "정현호추가.ipynb",
      "provenance": [],
      "collapsed_sections": []
    },
    "kernelspec": {
      "name": "python3",
      "display_name": "Python 3"
    },
    "language_info": {
      "name": "python"
    }
  },
  "cells": [
    {
      "cell_type": "code",
      "metadata": {
        "id": "M8v8JHyWnmz-"
      },
      "source": [
        "import pandas as pd\n",
        "import numpy as np\n",
        "import matplotlib.pyplot as plt\n",
        "import seaborn as sns"
      ],
      "execution_count": 2,
      "outputs": []
    },
    {
      "cell_type": "code",
      "metadata": {
        "id": "wUg_ReT5nnRV"
      },
      "source": [
        "df = pd.read_csv('../Train_data.csv')"
      ],
      "execution_count": 4,
      "outputs": []
    },
    {
      "cell_type": "code",
      "metadata": {
        "id": "YdagI-RKn3LY"
      },
      "source": [
        "from sklearn.preprocessing import LabelEncoder\n",
        "enc_dict={}\n",
        "def encoding_label(x):\n",
        "    le = LabelEncoder()\n",
        "    r = le.fit_transform(x)\n",
        "    enc_dict[x.name] = le.classes_\n",
        "    return r"
      ],
      "execution_count": 5,
      "outputs": []
    },
    {
      "cell_type": "code",
      "metadata": {
        "id": "mjz4DEpEnoGW"
      },
      "source": [
        "X_cat = df[['protocol_type', 'service', 'flag']]\n",
        "# X_cat = df.select_dtypes(include=['object'])\n",
        "X_cat = pd.get_dummies(X_cat)"
      ],
      "execution_count": 6,
      "outputs": []
    },
    {
      "cell_type": "code",
      "metadata": {
        "id": "B-phloOkof8c"
      },
      "source": [
        "from sklearn.preprocessing import StandardScaler\n",
        "scaler = StandardScaler()\n",
        "\n",
        "X_num = df.drop(['protocol_type', 'service', 'flag', 'class'], axis=1)\n",
        "scaler.fit(X_num)\n",
        "X_scaled = scaler.transform(X_num)\n",
        "X_scaled = pd.DataFrame(X_scaled, index=X_num.index, columns=X_num.columns)\n",
        "\n",
        "X = pd.concat([X_scaled, X_cat], axis=1)\n",
        "\n",
        "y = df[['class']].apply(encoding_label)"
      ],
      "execution_count": 7,
      "outputs": []
    },
    {
      "cell_type": "code",
      "metadata": {
        "id": "TWT6m_h5of5-"
      },
      "source": [
        "from sklearn.model_selection import train_test_split\n",
        "# train test set 분리\n",
        "X_train, X_test, y_train, y_test = train_test_split(X, y, \n",
        "                                                    test_size=0.25, \n",
        "                                                    stratify=y, \n",
        "                                                    random_state=1)\n",
        "# train, validation분리\n",
        "X_train, X_val, y_train, y_val = train_test_split(X_train, y_train,\n",
        "                                                  test_size=0.25,\n",
        "                                                  stratify=y_train,\n",
        "                                                  random_state=1)"
      ],
      "execution_count": 8,
      "outputs": []
    },
    {
      "cell_type": "code",
      "metadata": {
        "id": "qQWqAeq6of3q"
      },
      "source": [
        "from sklearn.model_selection import GridSearchCV, RandomizedSearchCV"
      ],
      "execution_count": 9,
      "outputs": []
    },
    {
      "cell_type": "code",
      "metadata": {
        "id": "eWoOgKE4of0r"
      },
      "source": [
        "def gridSearch(model, param, num):\n",
        "    start_time=time.time()\n",
        "    grid_search = GridSearchCV(model,\n",
        "                               param_grid=param,\n",
        "                               #scoring='recall',\n",
        "                               scoring=['accuracy','recall'], \n",
        "                               refit='recall',\n",
        "                               cv=num,\n",
        "                               #verbose=1,\n",
        "                               n_jobs=-1)\n",
        "    grid_search.fit(X_train, y_train)\n",
        "    print(\"최고점수 :\", grid_search.best_score_)\n",
        "    print('걸린시간 :', time.time() - start_time)\n",
        "    return grid_search.best_estimator_, grid_search.best_params_"
      ],
      "execution_count": 10,
      "outputs": []
    },
    {
      "cell_type": "code",
      "metadata": {
        "id": "ZQ-7rLLgofwj"
      },
      "source": [
        "def randGridSearch(model,param, num):\n",
        "    start_time=time.time()\n",
        "    randomized_search = RandomizedSearchCV(model,\n",
        "                                           param_distributions=param,\n",
        "                                           n_iter=200,\n",
        "#                                           scoring='recall',\n",
        "                                           scoring=['accuracy','recall'], \n",
        "                                           refit='recall',\n",
        "                                           cv=num,\n",
        "                                           n_jobs=-1)\n",
        "    randomized_search.fit(X_train,y_train)\n",
        "    print(\"최고점수: \",randomized_search.best_score_)\n",
        "    print('걸린시간 :', time.time() - start_time)\n",
        "\n",
        "    return randomized_search.best_estimator_, randomized_search.best_params_"
      ],
      "execution_count": 11,
      "outputs": []
    },
    {
      "cell_type": "code",
      "metadata": {
        "id": "0MddxAGNpCb6"
      },
      "source": [
        "from sklearn.metrics import accuracy_score, confusion_matrix, classification_report, recall_score, plot_roc_curve, plot_precision_recall_curve\n",
        "from sklearn.model_selection import cross_val_score\n",
        "import time"
      ],
      "execution_count": 12,
      "outputs": []
    },
    {
      "cell_type": "code",
      "metadata": {
        "id": "m2ZHOTWXpd9E"
      },
      "source": [
        "def evaluating_model(name,model,params, Xdata,ydata):\n",
        "    pred = model.predict(Xdata)\n",
        "    cross_score = cross_val_score(model, Xdata, ydata, scoring='recall', cv=5)\n",
        "    accuracy = accuracy_score(ydata, pred)\n",
        "    c_matrix = confusion_matrix(ydata, pred)\n",
        "    classification = classification_report(ydata, pred, target_names=[enc_dict['class'][0],enc_dict['class'][1]])\n",
        "    print('=============', name, 'evaluating=============')\n",
        "    print('Best params: \\n', params)\n",
        "    print(\"Mean Cross_val_score(recall): \\n\", cross_score.mean())\n",
        "    print(\"Accuracy_score: \\n\", accuracy)\n",
        "    print(\"Confusion_matrix: \\n\", c_matrix)\n",
        "    print(\"Classification_report: \\n\", classification)"
      ],
      "execution_count": 13,
      "outputs": []
    },
    {
      "cell_type": "markdown",
      "metadata": {
        "id": "f8_n6W0fpRsn"
      },
      "source": [
        "# --------------여기서부터 추가할 부분입니다.-----------------------"
      ]
    },
    {
      "cell_type": "code",
      "metadata": {
        "id": "WQM6QFP3pEgc"
      },
      "source": [
        "from sklearn.linear_model import LogisticRegression\n",
        "from sklearn.svm import SVC\n",
        "from sklearn.ensemble import RandomForestClassifier"
      ],
      "execution_count": 14,
      "outputs": []
    },
    {
      "cell_type": "markdown",
      "metadata": {
        "id": "vqqsEbbnivLm"
      },
      "source": [
        "# 로지스틱 리그레션"
      ]
    },
    {
      "cell_type": "code",
      "metadata": {
        "colab": {
          "base_uri": "https://localhost:8080/"
        },
        "id": "bU-TbyC8i3xN",
        "outputId": "6ceccfaf-5574-4b12-fea0-46d4dcd2ce62"
      },
      "source": [
        "# LogisticRegression\n",
        "lr = LogisticRegression()\n",
        "lr_param = {\n",
        "    'penalty' : ['l2', 'l1'],# 규제 유형: 기본값 'l2'\n",
        "     'C' : [0.01, 0.1, 1, 5, 10] # 규제 강도: C값이 작을수록 규제 강도가 크다\n",
        "}\n",
        "\n",
        "lr_best_estimator, lr_best_params = gridSearch(lr, lr_param, 5)"
      ],
      "execution_count": 15,
      "outputs": [
        {
          "output_type": "stream",
          "text": [
            "/usr/local/lib/python3.7/dist-packages/sklearn/utils/validation.py:760: DataConversionWarning: A column-vector y was passed when a 1d array was expected. Please change the shape of y to (n_samples, ), for example using ravel().\n",
            "  y = column_or_1d(y, warn=True)\n"
          ],
          "name": "stderr"
        },
        {
          "output_type": "stream",
          "text": [
            "최고점수 : 0.9821546596166556\n",
            "걸린시간 : 8.457817792892456\n"
          ],
          "name": "stdout"
        },
        {
          "output_type": "stream",
          "text": [
            "/usr/local/lib/python3.7/dist-packages/sklearn/linear_model/_logistic.py:940: ConvergenceWarning: lbfgs failed to converge (status=1):\n",
            "STOP: TOTAL NO. of ITERATIONS REACHED LIMIT.\n",
            "\n",
            "Increase the number of iterations (max_iter) or scale the data as shown in:\n",
            "    https://scikit-learn.org/stable/modules/preprocessing.html\n",
            "Please also refer to the documentation for alternative solver options:\n",
            "    https://scikit-learn.org/stable/modules/linear_model.html#logistic-regression\n",
            "  extra_warning_msg=_LOGISTIC_SOLVER_CONVERGENCE_MSG)\n"
          ],
          "name": "stderr"
        }
      ]
    },
    {
      "cell_type": "code",
      "metadata": {
        "colab": {
          "base_uri": "https://localhost:8080/"
        },
        "id": "MIQ2Hfn4kjet",
        "outputId": "f3ad44e4-c67d-42ff-9b4c-44170c0de5e8"
      },
      "source": [
        "lr.get_params().keys()"
      ],
      "execution_count": 16,
      "outputs": [
        {
          "output_type": "execute_result",
          "data": {
            "text/plain": [
              "dict_keys(['C', 'class_weight', 'dual', 'fit_intercept', 'intercept_scaling', 'l1_ratio', 'max_iter', 'multi_class', 'n_jobs', 'penalty', 'random_state', 'solver', 'tol', 'verbose', 'warm_start'])"
            ]
          },
          "metadata": {
            "tags": []
          },
          "execution_count": 16
        }
      ]
    },
    {
      "cell_type": "code",
      "metadata": {
        "colab": {
          "base_uri": "https://localhost:8080/"
        },
        "id": "MYpIdraem3Jy",
        "outputId": "1718b029-267b-4cde-d17b-b0d6fef392e7"
      },
      "source": [
        "lr_best_estimator, lr_best_params"
      ],
      "execution_count": 17,
      "outputs": [
        {
          "output_type": "execute_result",
          "data": {
            "text/plain": [
              "(LogisticRegression(C=1, class_weight=None, dual=False, fit_intercept=True,\n",
              "                    intercept_scaling=1, l1_ratio=None, max_iter=100,\n",
              "                    multi_class='auto', n_jobs=None, penalty='l2',\n",
              "                    random_state=None, solver='lbfgs', tol=0.0001, verbose=0,\n",
              "                    warm_start=False), {'C': 1, 'penalty': 'l2'})"
            ]
          },
          "metadata": {
            "tags": []
          },
          "execution_count": 17
        }
      ]
    },
    {
      "cell_type": "code",
      "metadata": {
        "colab": {
          "base_uri": "https://localhost:8080/"
        },
        "id": "eEvQkxm6kjU8",
        "outputId": "38643909-eefe-402d-cf2f-a6bbe99afe56"
      },
      "source": [
        "evaluating_model(\"LogisticRegression\", lr_best_estimator, lr_best_params, X_train, y_train)"
      ],
      "execution_count": 18,
      "outputs": [
        {
          "output_type": "stream",
          "text": [
            "/usr/local/lib/python3.7/dist-packages/sklearn/utils/validation.py:760: DataConversionWarning: A column-vector y was passed when a 1d array was expected. Please change the shape of y to (n_samples, ), for example using ravel().\n",
            "  y = column_or_1d(y, warn=True)\n",
            "/usr/local/lib/python3.7/dist-packages/sklearn/linear_model/_logistic.py:940: ConvergenceWarning: lbfgs failed to converge (status=1):\n",
            "STOP: TOTAL NO. of ITERATIONS REACHED LIMIT.\n",
            "\n",
            "Increase the number of iterations (max_iter) or scale the data as shown in:\n",
            "    https://scikit-learn.org/stable/modules/preprocessing.html\n",
            "Please also refer to the documentation for alternative solver options:\n",
            "    https://scikit-learn.org/stable/modules/linear_model.html#logistic-regression\n",
            "  extra_warning_msg=_LOGISTIC_SOLVER_CONVERGENCE_MSG)\n",
            "/usr/local/lib/python3.7/dist-packages/sklearn/utils/validation.py:760: DataConversionWarning: A column-vector y was passed when a 1d array was expected. Please change the shape of y to (n_samples, ), for example using ravel().\n",
            "  y = column_or_1d(y, warn=True)\n",
            "/usr/local/lib/python3.7/dist-packages/sklearn/linear_model/_logistic.py:940: ConvergenceWarning: lbfgs failed to converge (status=1):\n",
            "STOP: TOTAL NO. of ITERATIONS REACHED LIMIT.\n",
            "\n",
            "Increase the number of iterations (max_iter) or scale the data as shown in:\n",
            "    https://scikit-learn.org/stable/modules/preprocessing.html\n",
            "Please also refer to the documentation for alternative solver options:\n",
            "    https://scikit-learn.org/stable/modules/linear_model.html#logistic-regression\n",
            "  extra_warning_msg=_LOGISTIC_SOLVER_CONVERGENCE_MSG)\n",
            "/usr/local/lib/python3.7/dist-packages/sklearn/utils/validation.py:760: DataConversionWarning: A column-vector y was passed when a 1d array was expected. Please change the shape of y to (n_samples, ), for example using ravel().\n",
            "  y = column_or_1d(y, warn=True)\n",
            "/usr/local/lib/python3.7/dist-packages/sklearn/linear_model/_logistic.py:940: ConvergenceWarning: lbfgs failed to converge (status=1):\n",
            "STOP: TOTAL NO. of ITERATIONS REACHED LIMIT.\n",
            "\n",
            "Increase the number of iterations (max_iter) or scale the data as shown in:\n",
            "    https://scikit-learn.org/stable/modules/preprocessing.html\n",
            "Please also refer to the documentation for alternative solver options:\n",
            "    https://scikit-learn.org/stable/modules/linear_model.html#logistic-regression\n",
            "  extra_warning_msg=_LOGISTIC_SOLVER_CONVERGENCE_MSG)\n",
            "/usr/local/lib/python3.7/dist-packages/sklearn/utils/validation.py:760: DataConversionWarning: A column-vector y was passed when a 1d array was expected. Please change the shape of y to (n_samples, ), for example using ravel().\n",
            "  y = column_or_1d(y, warn=True)\n",
            "/usr/local/lib/python3.7/dist-packages/sklearn/linear_model/_logistic.py:940: ConvergenceWarning: lbfgs failed to converge (status=1):\n",
            "STOP: TOTAL NO. of ITERATIONS REACHED LIMIT.\n",
            "\n",
            "Increase the number of iterations (max_iter) or scale the data as shown in:\n",
            "    https://scikit-learn.org/stable/modules/preprocessing.html\n",
            "Please also refer to the documentation for alternative solver options:\n",
            "    https://scikit-learn.org/stable/modules/linear_model.html#logistic-regression\n",
            "  extra_warning_msg=_LOGISTIC_SOLVER_CONVERGENCE_MSG)\n",
            "/usr/local/lib/python3.7/dist-packages/sklearn/utils/validation.py:760: DataConversionWarning: A column-vector y was passed when a 1d array was expected. Please change the shape of y to (n_samples, ), for example using ravel().\n",
            "  y = column_or_1d(y, warn=True)\n"
          ],
          "name": "stderr"
        },
        {
          "output_type": "stream",
          "text": [
            "============= LogisticRegression evaluating=============\n",
            "Best params: \n",
            " {'C': 1, 'penalty': 'l2'}\n",
            "Mean Cross_val_score(recall): \n",
            " 0.9821546596166556\n",
            "Accuracy_score: \n",
            " 0.9739590684544813\n",
            "Confusion_matrix: \n",
            " [[6362  243]\n",
            " [ 126 7439]]\n",
            "Classification_report: \n",
            "               precision    recall  f1-score   support\n",
            "\n",
            "     anomaly       0.98      0.96      0.97      6605\n",
            "      normal       0.97      0.98      0.98      7565\n",
            "\n",
            "    accuracy                           0.97     14170\n",
            "   macro avg       0.97      0.97      0.97     14170\n",
            "weighted avg       0.97      0.97      0.97     14170\n",
            "\n"
          ],
          "name": "stdout"
        },
        {
          "output_type": "stream",
          "text": [
            "/usr/local/lib/python3.7/dist-packages/sklearn/linear_model/_logistic.py:940: ConvergenceWarning: lbfgs failed to converge (status=1):\n",
            "STOP: TOTAL NO. of ITERATIONS REACHED LIMIT.\n",
            "\n",
            "Increase the number of iterations (max_iter) or scale the data as shown in:\n",
            "    https://scikit-learn.org/stable/modules/preprocessing.html\n",
            "Please also refer to the documentation for alternative solver options:\n",
            "    https://scikit-learn.org/stable/modules/linear_model.html#logistic-regression\n",
            "  extra_warning_msg=_LOGISTIC_SOLVER_CONVERGENCE_MSG)\n"
          ],
          "name": "stderr"
        }
      ]
    },
    {
      "cell_type": "code",
      "metadata": {
        "colab": {
          "base_uri": "https://localhost:8080/"
        },
        "id": "i-cKdTgpkjKM",
        "outputId": "f1ec701b-e25c-443c-a19c-9c2d13764115"
      },
      "source": [
        "evaluating_model(\"LogisticRegression\", lr_best_estimator, lr_best_params, X_val, y_val)"
      ],
      "execution_count": 19,
      "outputs": [
        {
          "output_type": "stream",
          "text": [
            "/usr/local/lib/python3.7/dist-packages/sklearn/utils/validation.py:760: DataConversionWarning: A column-vector y was passed when a 1d array was expected. Please change the shape of y to (n_samples, ), for example using ravel().\n",
            "  y = column_or_1d(y, warn=True)\n",
            "/usr/local/lib/python3.7/dist-packages/sklearn/linear_model/_logistic.py:940: ConvergenceWarning: lbfgs failed to converge (status=1):\n",
            "STOP: TOTAL NO. of ITERATIONS REACHED LIMIT.\n",
            "\n",
            "Increase the number of iterations (max_iter) or scale the data as shown in:\n",
            "    https://scikit-learn.org/stable/modules/preprocessing.html\n",
            "Please also refer to the documentation for alternative solver options:\n",
            "    https://scikit-learn.org/stable/modules/linear_model.html#logistic-regression\n",
            "  extra_warning_msg=_LOGISTIC_SOLVER_CONVERGENCE_MSG)\n",
            "/usr/local/lib/python3.7/dist-packages/sklearn/utils/validation.py:760: DataConversionWarning: A column-vector y was passed when a 1d array was expected. Please change the shape of y to (n_samples, ), for example using ravel().\n",
            "  y = column_or_1d(y, warn=True)\n",
            "/usr/local/lib/python3.7/dist-packages/sklearn/linear_model/_logistic.py:940: ConvergenceWarning: lbfgs failed to converge (status=1):\n",
            "STOP: TOTAL NO. of ITERATIONS REACHED LIMIT.\n",
            "\n",
            "Increase the number of iterations (max_iter) or scale the data as shown in:\n",
            "    https://scikit-learn.org/stable/modules/preprocessing.html\n",
            "Please also refer to the documentation for alternative solver options:\n",
            "    https://scikit-learn.org/stable/modules/linear_model.html#logistic-regression\n",
            "  extra_warning_msg=_LOGISTIC_SOLVER_CONVERGENCE_MSG)\n",
            "/usr/local/lib/python3.7/dist-packages/sklearn/utils/validation.py:760: DataConversionWarning: A column-vector y was passed when a 1d array was expected. Please change the shape of y to (n_samples, ), for example using ravel().\n",
            "  y = column_or_1d(y, warn=True)\n",
            "/usr/local/lib/python3.7/dist-packages/sklearn/linear_model/_logistic.py:940: ConvergenceWarning: lbfgs failed to converge (status=1):\n",
            "STOP: TOTAL NO. of ITERATIONS REACHED LIMIT.\n",
            "\n",
            "Increase the number of iterations (max_iter) or scale the data as shown in:\n",
            "    https://scikit-learn.org/stable/modules/preprocessing.html\n",
            "Please also refer to the documentation for alternative solver options:\n",
            "    https://scikit-learn.org/stable/modules/linear_model.html#logistic-regression\n",
            "  extra_warning_msg=_LOGISTIC_SOLVER_CONVERGENCE_MSG)\n",
            "/usr/local/lib/python3.7/dist-packages/sklearn/utils/validation.py:760: DataConversionWarning: A column-vector y was passed when a 1d array was expected. Please change the shape of y to (n_samples, ), for example using ravel().\n",
            "  y = column_or_1d(y, warn=True)\n"
          ],
          "name": "stderr"
        },
        {
          "output_type": "stream",
          "text": [
            "============= LogisticRegression evaluating=============\n",
            "Best params: \n",
            " {'C': 1, 'penalty': 'l2'}\n",
            "Mean Cross_val_score(recall): \n",
            " 0.9785902876001884\n",
            "Accuracy_score: \n",
            " 0.9693056731583404\n",
            "Confusion_matrix: \n",
            " [[2097  105]\n",
            " [  40 2482]]\n",
            "Classification_report: \n",
            "               precision    recall  f1-score   support\n",
            "\n",
            "     anomaly       0.98      0.95      0.97      2202\n",
            "      normal       0.96      0.98      0.97      2522\n",
            "\n",
            "    accuracy                           0.97      4724\n",
            "   macro avg       0.97      0.97      0.97      4724\n",
            "weighted avg       0.97      0.97      0.97      4724\n",
            "\n"
          ],
          "name": "stdout"
        },
        {
          "output_type": "stream",
          "text": [
            "/usr/local/lib/python3.7/dist-packages/sklearn/linear_model/_logistic.py:940: ConvergenceWarning: lbfgs failed to converge (status=1):\n",
            "STOP: TOTAL NO. of ITERATIONS REACHED LIMIT.\n",
            "\n",
            "Increase the number of iterations (max_iter) or scale the data as shown in:\n",
            "    https://scikit-learn.org/stable/modules/preprocessing.html\n",
            "Please also refer to the documentation for alternative solver options:\n",
            "    https://scikit-learn.org/stable/modules/linear_model.html#logistic-regression\n",
            "  extra_warning_msg=_LOGISTIC_SOLVER_CONVERGENCE_MSG)\n",
            "/usr/local/lib/python3.7/dist-packages/sklearn/utils/validation.py:760: DataConversionWarning: A column-vector y was passed when a 1d array was expected. Please change the shape of y to (n_samples, ), for example using ravel().\n",
            "  y = column_or_1d(y, warn=True)\n",
            "/usr/local/lib/python3.7/dist-packages/sklearn/linear_model/_logistic.py:940: ConvergenceWarning: lbfgs failed to converge (status=1):\n",
            "STOP: TOTAL NO. of ITERATIONS REACHED LIMIT.\n",
            "\n",
            "Increase the number of iterations (max_iter) or scale the data as shown in:\n",
            "    https://scikit-learn.org/stable/modules/preprocessing.html\n",
            "Please also refer to the documentation for alternative solver options:\n",
            "    https://scikit-learn.org/stable/modules/linear_model.html#logistic-regression\n",
            "  extra_warning_msg=_LOGISTIC_SOLVER_CONVERGENCE_MSG)\n"
          ],
          "name": "stderr"
        }
      ]
    },
    {
      "cell_type": "markdown",
      "metadata": {
        "id": "ocbGShPuki_0"
      },
      "source": [
        "# SVM"
      ]
    },
    {
      "cell_type": "code",
      "metadata": {
        "colab": {
          "base_uri": "https://localhost:8080/"
        },
        "id": "DBIPRmjdkizE",
        "outputId": "9f7c8475-5862-4e6d-8cf7-8702fbc6b5f2"
      },
      "source": [
        "svc = SVC(kernel='linear', C=0.01, random_state=1)\n",
        "svc_param = {\n",
        "    # 'C': [0.001, 0.01, 0.1, 1, 10, 100],\n",
        "    # 'gamma': [0.001, 0.01, 0.1, 1, 10, 100]\n",
        "}\n",
        "\n",
        "svc_best_estimator, svc_best_params = gridSearch(svc, svc_param, 5)"
      ],
      "execution_count": 20,
      "outputs": [
        {
          "output_type": "stream",
          "text": [
            "/usr/local/lib/python3.7/dist-packages/sklearn/utils/validation.py:760: DataConversionWarning: A column-vector y was passed when a 1d array was expected. Please change the shape of y to (n_samples, ), for example using ravel().\n",
            "  y = column_or_1d(y, warn=True)\n"
          ],
          "name": "stderr"
        },
        {
          "output_type": "stream",
          "text": [
            "최고점수 : 0.9841374752148051\n",
            "걸린시간 : 20.3105206489563\n"
          ],
          "name": "stdout"
        }
      ]
    },
    {
      "cell_type": "code",
      "metadata": {
        "colab": {
          "base_uri": "https://localhost:8080/"
        },
        "id": "XOsdSbgpmqLV",
        "outputId": "64b5fa6b-e263-4b45-b378-be956b202d20"
      },
      "source": [
        "svc.get_params().keys()"
      ],
      "execution_count": 22,
      "outputs": [
        {
          "output_type": "execute_result",
          "data": {
            "text/plain": [
              "dict_keys(['C', 'break_ties', 'cache_size', 'class_weight', 'coef0', 'decision_function_shape', 'degree', 'gamma', 'kernel', 'max_iter', 'probability', 'random_state', 'shrinking', 'tol', 'verbose'])"
            ]
          },
          "metadata": {
            "tags": []
          },
          "execution_count": 22
        }
      ]
    },
    {
      "cell_type": "code",
      "metadata": {
        "colab": {
          "base_uri": "https://localhost:8080/"
        },
        "id": "X6JW6NUmmtNe",
        "outputId": "7eb1bc39-1a17-4fe9-e385-9cbf9d6468a8"
      },
      "source": [
        "svc_best_estimator, svc_best_params\n",
        "# {'C': 100, 'gamma': 0.001}"
      ],
      "execution_count": 23,
      "outputs": [
        {
          "output_type": "execute_result",
          "data": {
            "text/plain": [
              "(SVC(C=0.01, break_ties=False, cache_size=200, class_weight=None, coef0=0.0,\n",
              "     decision_function_shape='ovr', degree=3, gamma='scale', kernel='linear',\n",
              "     max_iter=-1, probability=False, random_state=1, shrinking=True, tol=0.001,\n",
              "     verbose=False), {})"
            ]
          },
          "metadata": {
            "tags": []
          },
          "execution_count": 23
        }
      ]
    },
    {
      "cell_type": "code",
      "metadata": {
        "colab": {
          "base_uri": "https://localhost:8080/"
        },
        "id": "jyW0blj6kiev",
        "outputId": "b810c459-1034-42d1-cb3b-3c83c29b7573"
      },
      "source": [
        "evaluating_model(\"SVM\", svc_best_estimator, svc_best_params, X_train, y_train)"
      ],
      "execution_count": 21,
      "outputs": [
        {
          "output_type": "stream",
          "text": [
            "/usr/local/lib/python3.7/dist-packages/sklearn/utils/validation.py:760: DataConversionWarning: A column-vector y was passed when a 1d array was expected. Please change the shape of y to (n_samples, ), for example using ravel().\n",
            "  y = column_or_1d(y, warn=True)\n",
            "/usr/local/lib/python3.7/dist-packages/sklearn/utils/validation.py:760: DataConversionWarning: A column-vector y was passed when a 1d array was expected. Please change the shape of y to (n_samples, ), for example using ravel().\n",
            "  y = column_or_1d(y, warn=True)\n",
            "/usr/local/lib/python3.7/dist-packages/sklearn/utils/validation.py:760: DataConversionWarning: A column-vector y was passed when a 1d array was expected. Please change the shape of y to (n_samples, ), for example using ravel().\n",
            "  y = column_or_1d(y, warn=True)\n",
            "/usr/local/lib/python3.7/dist-packages/sklearn/utils/validation.py:760: DataConversionWarning: A column-vector y was passed when a 1d array was expected. Please change the shape of y to (n_samples, ), for example using ravel().\n",
            "  y = column_or_1d(y, warn=True)\n",
            "/usr/local/lib/python3.7/dist-packages/sklearn/utils/validation.py:760: DataConversionWarning: A column-vector y was passed when a 1d array was expected. Please change the shape of y to (n_samples, ), for example using ravel().\n",
            "  y = column_or_1d(y, warn=True)\n"
          ],
          "name": "stderr"
        },
        {
          "output_type": "stream",
          "text": [
            "============= SVM evaluating=============\n",
            "Best params: \n",
            " {}\n",
            "Mean Cross_val_score(recall): \n",
            " 0.9841374752148051\n",
            "Accuracy_score: \n",
            " 0.9721242060691602\n",
            "Confusion_matrix: \n",
            " [[6327  278]\n",
            " [ 117 7448]]\n",
            "Classification_report: \n",
            "               precision    recall  f1-score   support\n",
            "\n",
            "     anomaly       0.98      0.96      0.97      6605\n",
            "      normal       0.96      0.98      0.97      7565\n",
            "\n",
            "    accuracy                           0.97     14170\n",
            "   macro avg       0.97      0.97      0.97     14170\n",
            "weighted avg       0.97      0.97      0.97     14170\n",
            "\n"
          ],
          "name": "stdout"
        }
      ]
    },
    {
      "cell_type": "code",
      "metadata": {
        "colab": {
          "base_uri": "https://localhost:8080/"
        },
        "id": "iauWdshelt7M",
        "outputId": "dfbf1b04-bec7-43ee-cd8d-f3f012d09e37"
      },
      "source": [
        "evaluating_model(\"SVM\", svc_best_estimator, svc_best_params, X_val, y_val)"
      ],
      "execution_count": 24,
      "outputs": [
        {
          "output_type": "stream",
          "text": [
            "/usr/local/lib/python3.7/dist-packages/sklearn/utils/validation.py:760: DataConversionWarning: A column-vector y was passed when a 1d array was expected. Please change the shape of y to (n_samples, ), for example using ravel().\n",
            "  y = column_or_1d(y, warn=True)\n",
            "/usr/local/lib/python3.7/dist-packages/sklearn/utils/validation.py:760: DataConversionWarning: A column-vector y was passed when a 1d array was expected. Please change the shape of y to (n_samples, ), for example using ravel().\n",
            "  y = column_or_1d(y, warn=True)\n",
            "/usr/local/lib/python3.7/dist-packages/sklearn/utils/validation.py:760: DataConversionWarning: A column-vector y was passed when a 1d array was expected. Please change the shape of y to (n_samples, ), for example using ravel().\n",
            "  y = column_or_1d(y, warn=True)\n",
            "/usr/local/lib/python3.7/dist-packages/sklearn/utils/validation.py:760: DataConversionWarning: A column-vector y was passed when a 1d array was expected. Please change the shape of y to (n_samples, ), for example using ravel().\n",
            "  y = column_or_1d(y, warn=True)\n",
            "/usr/local/lib/python3.7/dist-packages/sklearn/utils/validation.py:760: DataConversionWarning: A column-vector y was passed when a 1d array was expected. Please change the shape of y to (n_samples, ), for example using ravel().\n",
            "  y = column_or_1d(y, warn=True)\n"
          ],
          "name": "stderr"
        },
        {
          "output_type": "stream",
          "text": [
            "============= SVM evaluating=============\n",
            "Best params: \n",
            " {}\n",
            "Mean Cross_val_score(recall): \n",
            " 0.9785902876001886\n",
            "Accuracy_score: \n",
            " 0.9676121930567316\n",
            "Confusion_matrix: \n",
            " [[2086  116]\n",
            " [  37 2485]]\n",
            "Classification_report: \n",
            "               precision    recall  f1-score   support\n",
            "\n",
            "     anomaly       0.98      0.95      0.96      2202\n",
            "      normal       0.96      0.99      0.97      2522\n",
            "\n",
            "    accuracy                           0.97      4724\n",
            "   macro avg       0.97      0.97      0.97      4724\n",
            "weighted avg       0.97      0.97      0.97      4724\n",
            "\n"
          ],
          "name": "stdout"
        }
      ]
    },
    {
      "cell_type": "markdown",
      "metadata": {
        "id": "CTBGlF6Wl2FT"
      },
      "source": [
        "# 랜덤 포레스트"
      ]
    },
    {
      "cell_type": "code",
      "metadata": {
        "colab": {
          "base_uri": "https://localhost:8080/"
        },
        "id": "Y3VymVKBl2Cx",
        "outputId": "ff8afe61-9cd3-4b14-83e7-363d8fa9da8a"
      },
      "source": [
        "rf = RandomForestClassifier()\n",
        "rf_param = {\n",
        "    'n_estimators' : [10, 100],\n",
        "    'max_depth' : [5, 7, 9],\n",
        "    'min_samples_leaf' : [8, 12, 18],\n",
        "    'min_samples_split' : [8, 16, 20]\n",
        "}\n",
        "\n",
        "rf_best_estimator, rf_best_params = gridSearch(rf, rf_param, 5)"
      ],
      "execution_count": 25,
      "outputs": [
        {
          "output_type": "stream",
          "text": [
            "/usr/local/lib/python3.7/dist-packages/sklearn/model_selection/_search.py:739: DataConversionWarning: A column-vector y was passed when a 1d array was expected. Please change the shape of y to (n_samples,), for example using ravel().\n",
            "  self.best_estimator_.fit(X, y, **fit_params)\n"
          ],
          "name": "stderr"
        },
        {
          "output_type": "stream",
          "text": [
            "최고점수 : 0.9974884335756775\n",
            "걸린시간 : 88.11090636253357\n"
          ],
          "name": "stdout"
        }
      ]
    },
    {
      "cell_type": "code",
      "metadata": {
        "colab": {
          "base_uri": "https://localhost:8080/"
        },
        "id": "F19NXr6wmy9Y",
        "outputId": "cdcdb449-dafa-493d-ea95-3a1756468f73"
      },
      "source": [
        "rf.get_params().keys()"
      ],
      "execution_count": 26,
      "outputs": [
        {
          "output_type": "execute_result",
          "data": {
            "text/plain": [
              "dict_keys(['bootstrap', 'ccp_alpha', 'class_weight', 'criterion', 'max_depth', 'max_features', 'max_leaf_nodes', 'max_samples', 'min_impurity_decrease', 'min_impurity_split', 'min_samples_leaf', 'min_samples_split', 'min_weight_fraction_leaf', 'n_estimators', 'n_jobs', 'oob_score', 'random_state', 'verbose', 'warm_start'])"
            ]
          },
          "metadata": {
            "tags": []
          },
          "execution_count": 26
        }
      ]
    },
    {
      "cell_type": "code",
      "metadata": {
        "colab": {
          "base_uri": "https://localhost:8080/"
        },
        "id": "74SyU1RAmysY",
        "outputId": "8695a19a-165a-4dd7-b0c7-60c6599fb85b"
      },
      "source": [
        "rf_best_estimator, rf_best_params"
      ],
      "execution_count": 27,
      "outputs": [
        {
          "output_type": "execute_result",
          "data": {
            "text/plain": [
              "(RandomForestClassifier(bootstrap=True, ccp_alpha=0.0, class_weight=None,\n",
              "                        criterion='gini', max_depth=7, max_features='auto',\n",
              "                        max_leaf_nodes=None, max_samples=None,\n",
              "                        min_impurity_decrease=0.0, min_impurity_split=None,\n",
              "                        min_samples_leaf=8, min_samples_split=16,\n",
              "                        min_weight_fraction_leaf=0.0, n_estimators=100,\n",
              "                        n_jobs=None, oob_score=False, random_state=None,\n",
              "                        verbose=0, warm_start=False),\n",
              " {'max_depth': 7,\n",
              "  'min_samples_leaf': 8,\n",
              "  'min_samples_split': 16,\n",
              "  'n_estimators': 100})"
            ]
          },
          "metadata": {
            "tags": []
          },
          "execution_count": 27
        }
      ]
    },
    {
      "cell_type": "code",
      "metadata": {
        "colab": {
          "base_uri": "https://localhost:8080/"
        },
        "id": "KuSzo_Bal1_-",
        "outputId": "6b863081-6f23-4e96-993d-3af344b155f0"
      },
      "source": [
        "evaluating_model(\"RandomForestClassifier\", svc_best_estimator, svc_best_params, X_train, y_train)"
      ],
      "execution_count": 28,
      "outputs": [
        {
          "output_type": "stream",
          "text": [
            "/usr/local/lib/python3.7/dist-packages/sklearn/utils/validation.py:760: DataConversionWarning: A column-vector y was passed when a 1d array was expected. Please change the shape of y to (n_samples, ), for example using ravel().\n",
            "  y = column_or_1d(y, warn=True)\n",
            "/usr/local/lib/python3.7/dist-packages/sklearn/utils/validation.py:760: DataConversionWarning: A column-vector y was passed when a 1d array was expected. Please change the shape of y to (n_samples, ), for example using ravel().\n",
            "  y = column_or_1d(y, warn=True)\n",
            "/usr/local/lib/python3.7/dist-packages/sklearn/utils/validation.py:760: DataConversionWarning: A column-vector y was passed when a 1d array was expected. Please change the shape of y to (n_samples, ), for example using ravel().\n",
            "  y = column_or_1d(y, warn=True)\n",
            "/usr/local/lib/python3.7/dist-packages/sklearn/utils/validation.py:760: DataConversionWarning: A column-vector y was passed when a 1d array was expected. Please change the shape of y to (n_samples, ), for example using ravel().\n",
            "  y = column_or_1d(y, warn=True)\n",
            "/usr/local/lib/python3.7/dist-packages/sklearn/utils/validation.py:760: DataConversionWarning: A column-vector y was passed when a 1d array was expected. Please change the shape of y to (n_samples, ), for example using ravel().\n",
            "  y = column_or_1d(y, warn=True)\n"
          ],
          "name": "stderr"
        },
        {
          "output_type": "stream",
          "text": [
            "============= RandomForestClassifier evaluating=============\n",
            "Best params: \n",
            " {}\n",
            "Mean Cross_val_score(recall): \n",
            " 0.9841374752148051\n",
            "Accuracy_score: \n",
            " 0.9721242060691602\n",
            "Confusion_matrix: \n",
            " [[6327  278]\n",
            " [ 117 7448]]\n",
            "Classification_report: \n",
            "               precision    recall  f1-score   support\n",
            "\n",
            "     anomaly       0.98      0.96      0.97      6605\n",
            "      normal       0.96      0.98      0.97      7565\n",
            "\n",
            "    accuracy                           0.97     14170\n",
            "   macro avg       0.97      0.97      0.97     14170\n",
            "weighted avg       0.97      0.97      0.97     14170\n",
            "\n"
          ],
          "name": "stdout"
        }
      ]
    },
    {
      "cell_type": "code",
      "metadata": {
        "colab": {
          "base_uri": "https://localhost:8080/"
        },
        "id": "E9vdxkS5l16N",
        "outputId": "7b741a02-72d0-493e-dc1a-26e1e5e684b8"
      },
      "source": [
        "evaluating_model(\"RandomForestClassifier\", svc_best_estimator, svc_best_params, X_val, y_val)"
      ],
      "execution_count": 29,
      "outputs": [
        {
          "output_type": "stream",
          "text": [
            "/usr/local/lib/python3.7/dist-packages/sklearn/utils/validation.py:760: DataConversionWarning: A column-vector y was passed when a 1d array was expected. Please change the shape of y to (n_samples, ), for example using ravel().\n",
            "  y = column_or_1d(y, warn=True)\n",
            "/usr/local/lib/python3.7/dist-packages/sklearn/utils/validation.py:760: DataConversionWarning: A column-vector y was passed when a 1d array was expected. Please change the shape of y to (n_samples, ), for example using ravel().\n",
            "  y = column_or_1d(y, warn=True)\n",
            "/usr/local/lib/python3.7/dist-packages/sklearn/utils/validation.py:760: DataConversionWarning: A column-vector y was passed when a 1d array was expected. Please change the shape of y to (n_samples, ), for example using ravel().\n",
            "  y = column_or_1d(y, warn=True)\n",
            "/usr/local/lib/python3.7/dist-packages/sklearn/utils/validation.py:760: DataConversionWarning: A column-vector y was passed when a 1d array was expected. Please change the shape of y to (n_samples, ), for example using ravel().\n",
            "  y = column_or_1d(y, warn=True)\n",
            "/usr/local/lib/python3.7/dist-packages/sklearn/utils/validation.py:760: DataConversionWarning: A column-vector y was passed when a 1d array was expected. Please change the shape of y to (n_samples, ), for example using ravel().\n",
            "  y = column_or_1d(y, warn=True)\n"
          ],
          "name": "stderr"
        },
        {
          "output_type": "stream",
          "text": [
            "============= RandomForestClassifier evaluating=============\n",
            "Best params: \n",
            " {}\n",
            "Mean Cross_val_score(recall): \n",
            " 0.9785902876001886\n",
            "Accuracy_score: \n",
            " 0.9676121930567316\n",
            "Confusion_matrix: \n",
            " [[2086  116]\n",
            " [  37 2485]]\n",
            "Classification_report: \n",
            "               precision    recall  f1-score   support\n",
            "\n",
            "     anomaly       0.98      0.95      0.96      2202\n",
            "      normal       0.96      0.99      0.97      2522\n",
            "\n",
            "    accuracy                           0.97      4724\n",
            "   macro avg       0.97      0.97      0.97      4724\n",
            "weighted avg       0.97      0.97      0.97      4724\n",
            "\n"
          ],
          "name": "stdout"
        }
      ]
    },
    {
      "cell_type": "markdown",
      "metadata": {
        "id": "qLmNzsvYl1v_"
      },
      "source": [
        "# Testing set evaluation"
      ]
    },
    {
      "cell_type": "code",
      "metadata": {
        "id": "MurWbgzinGyV"
      },
      "source": [
        "models = []\n",
        "# models.append(('Decision Tree Classifier', Decision_best_estimator))\n",
        "# models.append(('KNeighborsClassifier', knn_best_estimator))\n",
        "# models.append(('GradientBoostingClassifier', gbc_best_estimator)) \n",
        "# models.append(('XGBClassifier', xgb_best_estimator))\n",
        "models.append(('LogisticRegression', lr_best_estimator))\n",
        "models.append(('SVM', svc_best_estimator))\n",
        "models.append(('RandomForestClassifier', rf_best_estimator))"
      ],
      "execution_count": 30,
      "outputs": []
    },
    {
      "cell_type": "code",
      "metadata": {
        "colab": {
          "base_uri": "https://localhost:8080/"
        },
        "id": "SyMzICTzq8bn",
        "outputId": "d57a1843-d3e3-4b65-ddc7-e21296f7c5a6"
      },
      "source": [
        "for i, v in models:\n",
        "    pred = v.predict(X_test)\n",
        "    cross_score = cross_val_score(v, X_test, y_test, scoring='recall', cv=5)\n",
        "    accuracy = accuracy_score(y_test, pred)\n",
        "    c_matrix = confusion_matrix(y_test, pred)\n",
        "    classification = classification_report(y_test, pred, target_names=[enc_dict['class'][0],enc_dict['class'][1]])\n",
        "    print('=================================', i, ' evaluating=================================')\n",
        "    print(\"Mean Cross_val_score(recall): \\n\", cross_score.mean())\n",
        "    print(\"Accuracy_score: \\n\", accuracy)\n",
        "    print(\"Confusion_matrix: \\n\", c_matrix)\n",
        "    print(\"Classification_report: \\n\", classification)"
      ],
      "execution_count": 31,
      "outputs": [
        {
          "output_type": "stream",
          "text": [
            "/usr/local/lib/python3.7/dist-packages/sklearn/utils/validation.py:760: DataConversionWarning: A column-vector y was passed when a 1d array was expected. Please change the shape of y to (n_samples, ), for example using ravel().\n",
            "  y = column_or_1d(y, warn=True)\n",
            "/usr/local/lib/python3.7/dist-packages/sklearn/linear_model/_logistic.py:940: ConvergenceWarning: lbfgs failed to converge (status=1):\n",
            "STOP: TOTAL NO. of ITERATIONS REACHED LIMIT.\n",
            "\n",
            "Increase the number of iterations (max_iter) or scale the data as shown in:\n",
            "    https://scikit-learn.org/stable/modules/preprocessing.html\n",
            "Please also refer to the documentation for alternative solver options:\n",
            "    https://scikit-learn.org/stable/modules/linear_model.html#logistic-regression\n",
            "  extra_warning_msg=_LOGISTIC_SOLVER_CONVERGENCE_MSG)\n",
            "/usr/local/lib/python3.7/dist-packages/sklearn/utils/validation.py:760: DataConversionWarning: A column-vector y was passed when a 1d array was expected. Please change the shape of y to (n_samples, ), for example using ravel().\n",
            "  y = column_or_1d(y, warn=True)\n",
            "/usr/local/lib/python3.7/dist-packages/sklearn/linear_model/_logistic.py:940: ConvergenceWarning: lbfgs failed to converge (status=1):\n",
            "STOP: TOTAL NO. of ITERATIONS REACHED LIMIT.\n",
            "\n",
            "Increase the number of iterations (max_iter) or scale the data as shown in:\n",
            "    https://scikit-learn.org/stable/modules/preprocessing.html\n",
            "Please also refer to the documentation for alternative solver options:\n",
            "    https://scikit-learn.org/stable/modules/linear_model.html#logistic-regression\n",
            "  extra_warning_msg=_LOGISTIC_SOLVER_CONVERGENCE_MSG)\n",
            "/usr/local/lib/python3.7/dist-packages/sklearn/utils/validation.py:760: DataConversionWarning: A column-vector y was passed when a 1d array was expected. Please change the shape of y to (n_samples, ), for example using ravel().\n",
            "  y = column_or_1d(y, warn=True)\n",
            "/usr/local/lib/python3.7/dist-packages/sklearn/linear_model/_logistic.py:940: ConvergenceWarning: lbfgs failed to converge (status=1):\n",
            "STOP: TOTAL NO. of ITERATIONS REACHED LIMIT.\n",
            "\n",
            "Increase the number of iterations (max_iter) or scale the data as shown in:\n",
            "    https://scikit-learn.org/stable/modules/preprocessing.html\n",
            "Please also refer to the documentation for alternative solver options:\n",
            "    https://scikit-learn.org/stable/modules/linear_model.html#logistic-regression\n",
            "  extra_warning_msg=_LOGISTIC_SOLVER_CONVERGENCE_MSG)\n",
            "/usr/local/lib/python3.7/dist-packages/sklearn/utils/validation.py:760: DataConversionWarning: A column-vector y was passed when a 1d array was expected. Please change the shape of y to (n_samples, ), for example using ravel().\n",
            "  y = column_or_1d(y, warn=True)\n",
            "/usr/local/lib/python3.7/dist-packages/sklearn/linear_model/_logistic.py:940: ConvergenceWarning: lbfgs failed to converge (status=1):\n",
            "STOP: TOTAL NO. of ITERATIONS REACHED LIMIT.\n",
            "\n",
            "Increase the number of iterations (max_iter) or scale the data as shown in:\n",
            "    https://scikit-learn.org/stable/modules/preprocessing.html\n",
            "Please also refer to the documentation for alternative solver options:\n",
            "    https://scikit-learn.org/stable/modules/linear_model.html#logistic-regression\n",
            "  extra_warning_msg=_LOGISTIC_SOLVER_CONVERGENCE_MSG)\n",
            "/usr/local/lib/python3.7/dist-packages/sklearn/utils/validation.py:760: DataConversionWarning: A column-vector y was passed when a 1d array was expected. Please change the shape of y to (n_samples, ), for example using ravel().\n",
            "  y = column_or_1d(y, warn=True)\n",
            "/usr/local/lib/python3.7/dist-packages/sklearn/linear_model/_logistic.py:940: ConvergenceWarning: lbfgs failed to converge (status=1):\n",
            "STOP: TOTAL NO. of ITERATIONS REACHED LIMIT.\n",
            "\n",
            "Increase the number of iterations (max_iter) or scale the data as shown in:\n",
            "    https://scikit-learn.org/stable/modules/preprocessing.html\n",
            "Please also refer to the documentation for alternative solver options:\n",
            "    https://scikit-learn.org/stable/modules/linear_model.html#logistic-regression\n",
            "  extra_warning_msg=_LOGISTIC_SOLVER_CONVERGENCE_MSG)\n"
          ],
          "name": "stderr"
        },
        {
          "output_type": "stream",
          "text": [
            "================================= LogisticRegression  evaluating=================================\n",
            "Mean Cross_val_score(recall): \n",
            " 0.9821530283733108\n",
            "Accuracy_score: \n",
            " 0.9707843759923785\n",
            "Confusion_matrix: \n",
            " [[2800  136]\n",
            " [  48 3314]]\n",
            "Classification_report: \n",
            "               precision    recall  f1-score   support\n",
            "\n",
            "     anomaly       0.98      0.95      0.97      2936\n",
            "      normal       0.96      0.99      0.97      3362\n",
            "\n",
            "    accuracy                           0.97      6298\n",
            "   macro avg       0.97      0.97      0.97      6298\n",
            "weighted avg       0.97      0.97      0.97      6298\n",
            "\n"
          ],
          "name": "stdout"
        },
        {
          "output_type": "stream",
          "text": [
            "/usr/local/lib/python3.7/dist-packages/sklearn/utils/validation.py:760: DataConversionWarning: A column-vector y was passed when a 1d array was expected. Please change the shape of y to (n_samples, ), for example using ravel().\n",
            "  y = column_or_1d(y, warn=True)\n",
            "/usr/local/lib/python3.7/dist-packages/sklearn/utils/validation.py:760: DataConversionWarning: A column-vector y was passed when a 1d array was expected. Please change the shape of y to (n_samples, ), for example using ravel().\n",
            "  y = column_or_1d(y, warn=True)\n",
            "/usr/local/lib/python3.7/dist-packages/sklearn/utils/validation.py:760: DataConversionWarning: A column-vector y was passed when a 1d array was expected. Please change the shape of y to (n_samples, ), for example using ravel().\n",
            "  y = column_or_1d(y, warn=True)\n",
            "/usr/local/lib/python3.7/dist-packages/sklearn/utils/validation.py:760: DataConversionWarning: A column-vector y was passed when a 1d array was expected. Please change the shape of y to (n_samples, ), for example using ravel().\n",
            "  y = column_or_1d(y, warn=True)\n",
            "/usr/local/lib/python3.7/dist-packages/sklearn/utils/validation.py:760: DataConversionWarning: A column-vector y was passed when a 1d array was expected. Please change the shape of y to (n_samples, ), for example using ravel().\n",
            "  y = column_or_1d(y, warn=True)\n"
          ],
          "name": "stderr"
        },
        {
          "output_type": "stream",
          "text": [
            "================================= SVM  evaluating=================================\n",
            "Mean Cross_val_score(recall): \n",
            " 0.9857209191254512\n",
            "Accuracy_score: \n",
            " 0.9693553509050492\n",
            "Confusion_matrix: \n",
            " [[2785  151]\n",
            " [  42 3320]]\n",
            "Classification_report: \n",
            "               precision    recall  f1-score   support\n",
            "\n",
            "     anomaly       0.99      0.95      0.97      2936\n",
            "      normal       0.96      0.99      0.97      3362\n",
            "\n",
            "    accuracy                           0.97      6298\n",
            "   macro avg       0.97      0.97      0.97      6298\n",
            "weighted avg       0.97      0.97      0.97      6298\n",
            "\n"
          ],
          "name": "stdout"
        },
        {
          "output_type": "stream",
          "text": [
            "/usr/local/lib/python3.7/dist-packages/sklearn/model_selection/_validation.py:515: DataConversionWarning: A column-vector y was passed when a 1d array was expected. Please change the shape of y to (n_samples,), for example using ravel().\n",
            "  estimator.fit(X_train, y_train, **fit_params)\n",
            "/usr/local/lib/python3.7/dist-packages/sklearn/model_selection/_validation.py:515: DataConversionWarning: A column-vector y was passed when a 1d array was expected. Please change the shape of y to (n_samples,), for example using ravel().\n",
            "  estimator.fit(X_train, y_train, **fit_params)\n",
            "/usr/local/lib/python3.7/dist-packages/sklearn/model_selection/_validation.py:515: DataConversionWarning: A column-vector y was passed when a 1d array was expected. Please change the shape of y to (n_samples,), for example using ravel().\n",
            "  estimator.fit(X_train, y_train, **fit_params)\n",
            "/usr/local/lib/python3.7/dist-packages/sklearn/model_selection/_validation.py:515: DataConversionWarning: A column-vector y was passed when a 1d array was expected. Please change the shape of y to (n_samples,), for example using ravel().\n",
            "  estimator.fit(X_train, y_train, **fit_params)\n",
            "/usr/local/lib/python3.7/dist-packages/sklearn/model_selection/_validation.py:515: DataConversionWarning: A column-vector y was passed when a 1d array was expected. Please change the shape of y to (n_samples,), for example using ravel().\n",
            "  estimator.fit(X_train, y_train, **fit_params)\n"
          ],
          "name": "stderr"
        },
        {
          "output_type": "stream",
          "text": [
            "================================= RandomForestClassifier  evaluating=================================\n",
            "Mean Cross_val_score(recall): \n",
            " 0.9958342177881555\n",
            "Accuracy_score: \n",
            " 0.9842807240393776\n",
            "Confusion_matrix: \n",
            " [[2841   95]\n",
            " [   4 3358]]\n",
            "Classification_report: \n",
            "               precision    recall  f1-score   support\n",
            "\n",
            "     anomaly       1.00      0.97      0.98      2936\n",
            "      normal       0.97      1.00      0.99      3362\n",
            "\n",
            "    accuracy                           0.98      6298\n",
            "   macro avg       0.99      0.98      0.98      6298\n",
            "weighted avg       0.98      0.98      0.98      6298\n",
            "\n"
          ],
          "name": "stdout"
        }
      ]
    }
  ]
}