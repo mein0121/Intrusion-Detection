{
 "cells": [
  {
   "cell_type": "code",
   "execution_count": null,
   "id": "danish-relevance",
   "metadata": {},
   "outputs": [],
   "source": [
    "### 컬럼  \n",
    "- duration: continuous\n",
    "    - length (number of seconds) of the connection \n",
    "- protocol_type: discrete\n",
    "    - type of the protocol\n",
    "        - tcp: Transmission Control Protocol\n",
    "        - udp: User Datagram Protocol    \n",
    "        - icmp: Internet Control Message Protocol\n",
    "- service: descrete\n",
    "    - network service on the destination\n",
    "        - http,private,domain_u,smtp,ftp_data등 총66개\n",
    "- flag: discrete\n",
    "    - normal or error status of the connection \n",
    "        - SF: Normal establish & termination (>0 byte counts)\n",
    "        - S0: Connection attempt seen, no reply\n",
    "        - S1: Connection established, not terminated (0 byte counts)\n",
    "        - S2: Established, ORIG attempts close, no reply from RESP.\n",
    "        - S3: Established, RESP attempts close, no reply from ORIG.\n",
    "        - REJ: Connection attempt rejected\n",
    "        - RSTO: Established, ORIG aborted (RST)\n",
    "        - RSTR: Established, RESP aborted (RST)\n",
    "        - RSTOS0: ORIG sent SYN then RST; no RESP SYN-ACK\n",
    "        - SH: ORIG sent SYN then FIN; no RESP SYN-ACK (“half-open”)\n",
    "        - OTH: No SYN, not closed. Midstream traffic. Partial connection.\n",
    "- src_bytes: continuous\n",
    "    - number of data bytes from source to destination\n",
    "- dst_bytes: continuous\n",
    "    - number of data bytes from destination to source \n",
    "- land: discrete\n",
    "    - local area network denial\n",
    "    - 1 if connection is from/to the same host/port; 0 otherwise\n",
    "- wrong_fragment: continuous\n",
    "    - number of wrong fragments \n",
    "- urgent: continuous\n",
    "    - number of urgent packets \n",
    "- hot: continuous\n",
    "    - number of hot indicators\n",
    "- num_failed_logins: continuous\n",
    "    - number of failed login attempts \n",
    "- logged_in: discrete\n",
    "    - 1 if successfully logged in; 0 otherwise \n",
    "- num_compromised: continuous\n",
    "    - number of compromised conditions \n",
    "- root_shell: discrete\n",
    "    - 1 if root shell is obtained; 0 otherwise "
   ]
  }
 ],
 "metadata": {
  "kernelspec": {
   "display_name": "Python 3",
   "language": "python",
   "name": "python3"
  },
  "language_info": {
   "codemirror_mode": {
    "name": "ipython",
    "version": 3
   },
   "file_extension": ".py",
   "mimetype": "text/x-python",
   "name": "python",
   "nbconvert_exporter": "python",
   "pygments_lexer": "ipython3",
   "version": "3.7.10"
  }
 },
 "nbformat": 4,
 "nbformat_minor": 5
}
