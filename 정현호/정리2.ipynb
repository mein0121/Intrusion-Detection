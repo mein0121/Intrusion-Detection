{
  "nbformat": 4,
  "nbformat_minor": 0,
  "metadata": {
    "kernelspec": {
      "display_name": "Python 3",
      "language": "python",
      "name": "python3"
    },
    "language_info": {
      "codemirror_mode": {
        "name": "ipython",
        "version": 3
      },
      "file_extension": ".py",
      "mimetype": "text/x-python",
      "name": "python",
      "nbconvert_exporter": "python",
      "pygments_lexer": "ipython3",
      "version": "3.8.5"
    },
    "colab": {
      "name": "정리2.ipynb",
      "provenance": [],
      "collapsed_sections": []
    }
  },
  "cells": [
    {
      "cell_type": "markdown",
      "metadata": {
        "id": "_B8u84EPZeOa"
      },
      "source": [
        "# 컬럼 설명"
      ]
    },
    {
      "cell_type": "code",
      "metadata": {
        "id": "JtTfjMQRZeOm"
      },
      "source": [
        "import pandas as pd\n",
        "import numpy as np\n",
        "import matplotlib.pyplot as plt\n",
        "import seaborn as sns"
      ],
      "execution_count": 1,
      "outputs": []
    },
    {
      "cell_type": "code",
      "metadata": {
        "id": "q5xKVUKPZeOo"
      },
      "source": [
        "df = pd.read_csv('../Train_data.csv')"
      ],
      "execution_count": 2,
      "outputs": []
    },
    {
      "cell_type": "markdown",
      "metadata": {
        "id": "wDSsnG78ZeOo"
      },
      "source": [
        "# 데이터 info"
      ]
    },
    {
      "cell_type": "code",
      "metadata": {
        "id": "rVK7Uvt1ZeOo"
      },
      "source": [
        ""
      ],
      "execution_count": null,
      "outputs": []
    },
    {
      "cell_type": "markdown",
      "metadata": {
        "id": "razvQ4CQZeOr"
      },
      "source": [
        "# X_cat, X_num, target분리"
      ]
    },
    {
      "cell_type": "code",
      "metadata": {
        "id": "sQFodP1fZeOr"
      },
      "source": [
        "# 레이블 인코딩\n",
        "from sklearn.preprocessing import LabelEncoder\n",
        "enc_dict={}\n",
        "def encoding_label(x):\n",
        "    le = LabelEncoder()\n",
        "    r = le.fit_transform(x)\n",
        "    enc_dict[x.name] = le.classes_\n",
        "    return r"
      ],
      "execution_count": 3,
      "outputs": []
    },
    {
      "cell_type": "code",
      "metadata": {
        "id": "H48hbAvrZeOs"
      },
      "source": [
        "# 원핫 인코딩\n",
        "X_cat = df[['protocol_type', 'service', 'flag']]\n",
        "# X_cat = df.select_dtypes(include=['object'])\n",
        "X_cat = pd.get_dummies(X_cat)"
      ],
      "execution_count": 4,
      "outputs": []
    },
    {
      "cell_type": "markdown",
      "metadata": {
        "id": "ytWRK6iyZeOs"
      },
      "source": [
        "# 스케일링 + 데이터프레임 합치기"
      ]
    },
    {
      "cell_type": "code",
      "metadata": {
        "id": "IGN2AF1aZeOt"
      },
      "source": [
        "from sklearn.preprocessing import StandardScaler\n",
        "scaler = StandardScaler()\n",
        "\n",
        "X_num = df.drop(['protocol_type', 'service', 'flag', 'class'], axis=1)\n",
        "scaler.fit(X_num)\n",
        "X_scaled = scaler.transform(X_num)\n",
        "X_scaled = pd.DataFrame(X_scaled, index=X_num.index, columns=X_num.columns)\n",
        "\n",
        "X = pd.concat([X_scaled, X_cat], axis=1)\n",
        "\n",
        "y = df[['class']]#.apply(encoding_label)"
      ],
      "execution_count": 5,
      "outputs": []
    },
    {
      "cell_type": "code",
      "metadata": {
        "colab": {
          "base_uri": "https://localhost:8080/"
        },
        "id": "NYdckpgsZeOt",
        "outputId": "264eaa51-9f38-4c23-a491-e8a99f39efb4"
      },
      "source": [
        "X, y"
      ],
      "execution_count": 7,
      "outputs": [
        {
          "output_type": "execute_result",
          "data": {
            "text/plain": [
              "(       duration  src_bytes  dst_bytes  ...  flag_S3  flag_SF  flag_SH\n",
              " 0     -0.113551  -0.009889  -0.039310  ...        0        1        0\n",
              " 1     -0.113551  -0.010032  -0.039310  ...        0        1        0\n",
              " 2     -0.113551  -0.010093  -0.039310  ...        0        0        0\n",
              " 3     -0.113551  -0.009996   0.052473  ...        0        1        0\n",
              " 4     -0.113551  -0.010010  -0.034582  ...        0        1        0\n",
              " ...         ...        ...        ...  ...      ...      ...      ...\n",
              " 25187 -0.113551  -0.010093  -0.039310  ...        0        0        0\n",
              " 25188 -0.113551  -0.009954  -0.039310  ...        0        1        0\n",
              " 25189 -0.113551  -0.010093  -0.039310  ...        0        0        0\n",
              " 25190 -0.113551  -0.010093  -0.039310  ...        0        0        0\n",
              " 25191 -0.113551  -0.010093  -0.039310  ...        0        0        0\n",
              " \n",
              " [25192 rows x 118 columns],        class\n",
              " 0          1\n",
              " 1          1\n",
              " 2          0\n",
              " 3          1\n",
              " 4          1\n",
              " ...      ...\n",
              " 25187      0\n",
              " 25188      0\n",
              " 25189      0\n",
              " 25190      0\n",
              " 25191      0\n",
              " \n",
              " [25192 rows x 1 columns])"
            ]
          },
          "metadata": {
            "tags": []
          },
          "execution_count": 7
        }
      ]
    },
    {
      "cell_type": "markdown",
      "metadata": {
        "id": "3bvyNliuZeOw"
      },
      "source": [
        "# coef_"
      ]
    },
    {
      "cell_type": "code",
      "metadata": {
        "id": "i1E7TE8aZeOw"
      },
      "source": [
        "x1 = np.argwhere(abs(model_lr.coef_) > 5)\n",
        "x1"
      ],
      "execution_count": null,
      "outputs": []
    },
    {
      "cell_type": "markdown",
      "metadata": {
        "id": "GlmlhrMCZeOu"
      },
      "source": [
        "# 로지스틱 리그레션\n",
        "\n",
        "## 로지스틱 리그레션 주요 파라미터\n",
        "- penalty와 C가 있다.\n",
        "- penalty는 규제의 유형을 설정하며 'l2'로 설정 시 L2 규제를, 'l1'으로 설정 시 L1 규제를 뜻한다. 기본은 'l2'이다.\n",
        "- C는 규제 강도를 조절하는 alpha 값의 역수이다. C 값이 작을 수록 규제 강도가 크다."
      ]
    },
    {
      "cell_type": "code",
      "metadata": {
        "id": "2XFBeKEqZeOv"
      },
      "source": [
        "from sklearn.model_selection import train_test_split\n",
        "from sklearn.linear_model import LogisticRegression"
      ],
      "execution_count": 6,
      "outputs": []
    },
    {
      "cell_type": "code",
      "metadata": {
        "id": "BBCYnZslaEcR"
      },
      "source": [
        "X_train, X_test, y_train, y_test = train_test_split(X, y, test_size=0.3, random_state=1)"
      ],
      "execution_count": 7,
      "outputs": []
    },
    {
      "cell_type": "code",
      "metadata": {
        "colab": {
          "base_uri": "https://localhost:8080/"
        },
        "id": "QtX3iBT2ZeOv",
        "outputId": "79b7d773-7c92-4b4f-bcec-0bc627f96c1c"
      },
      "source": [
        "model_lr = LogisticRegression(max_iter=500)\n",
        "model_lr.fit(X_train, y_train.values.ravel())"
      ],
      "execution_count": 8,
      "outputs": [
        {
          "output_type": "execute_result",
          "data": {
            "text/plain": [
              "LogisticRegression(C=1.0, class_weight=None, dual=False, fit_intercept=True,\n",
              "                   intercept_scaling=1, l1_ratio=None, max_iter=500,\n",
              "                   multi_class='auto', n_jobs=None, penalty='l2',\n",
              "                   random_state=None, solver='lbfgs', tol=0.0001, verbose=0,\n",
              "                   warm_start=False)"
            ]
          },
          "metadata": {
            "tags": []
          },
          "execution_count": 8
        }
      ]
    },
    {
      "cell_type": "code",
      "metadata": {
        "id": "dqgSmADZZeOv"
      },
      "source": [
        "from sklearn.metrics import accuracy_score,classification_report, confusion_matrix, plot_confusion_matrix"
      ],
      "execution_count": 89,
      "outputs": []
    },
    {
      "cell_type": "code",
      "metadata": {
        "colab": {
          "base_uri": "https://localhost:8080/"
        },
        "id": "cZUuALglZeOv",
        "outputId": "b1140212-675f-4d9a-f80d-a477c4804222"
      },
      "source": [
        "pred = model_lr.predict(X_test)\n",
        "print(accuracy_score(y_test, pred))\n",
        "print(classification_report(y_test, pred))"
      ],
      "execution_count": 91,
      "outputs": [
        {
          "output_type": "stream",
          "text": [
            "0.9715533209843874\n",
            "              precision    recall  f1-score   support\n",
            "\n",
            "           0       0.98      0.96      0.97      3507\n",
            "           1       0.97      0.98      0.97      4051\n",
            "\n",
            "    accuracy                           0.97      7558\n",
            "   macro avg       0.97      0.97      0.97      7558\n",
            "weighted avg       0.97      0.97      0.97      7558\n",
            "\n"
          ],
          "name": "stdout"
        }
      ]
    },
    {
      "cell_type": "markdown",
      "metadata": {
        "id": "gN7hrChKZeOw"
      },
      "source": [
        "# GridSearchCV"
      ]
    },
    {
      "cell_type": "code",
      "metadata": {
        "id": "ao6V8MW5ZeOw"
      },
      "source": [
        "from sklearn import metrics\n",
        "from sklearn.model_selection import GridSearchCV\n",
        "\n",
        "model_lr = LogisticRegression(max_iter=1000)\n",
        "\n",
        "param_grid = {'penalty' : ['l2', 'l1'], 'C' : [0.01, 0.1, 1, 5, 10]}\n",
        "\n",
        "grid_search = GridSearchCV(model_lr, param_grid=param_grid, scoring=['accuracy', 'recall', 'precision'], refit='accuracy', cv=5, n_jobs=-1)\n",
        "# grid_search = GridSearchCV(model_lr, #학습시킬 모델\n",
        "#                            param_grid=param_grid, #하이퍼파라미터 후보\n",
        "# #                            scoring=\"accuracy\", #평가 지표\n",
        "#                            scoring=['accuracy', 'recall', 'precision'], #평가지표를 여러개 지정시 리스트로 묶어준다.\n",
        "#                            refit=\"accuracy\", #평가지표가 여러개일때 어떤 지표를 기준으로 best_estimator를 만들것인지 지정.\n",
        "#                            cv=5, #교차검증(Cross Validation)의 folder 개수(몇개로 나눌 것인지.)\n",
        "#                            n_jobs=-1)"
      ],
      "execution_count": 77,
      "outputs": []
    },
    {
      "cell_type": "code",
      "metadata": {
        "colab": {
          "base_uri": "https://localhost:8080/"
        },
        "id": "C3Bk0nQ6ZeOx",
        "outputId": "8779e083-0c97-4f38-d521-f0ce44378a2f"
      },
      "source": [
        "# 학습(train) - 최적의 하이퍼파라미터 조합\n",
        "grid_search.fit(X_train, y_train.values.ravel())"
      ],
      "execution_count": 78,
      "outputs": [
        {
          "output_type": "execute_result",
          "data": {
            "text/plain": [
              "GridSearchCV(cv=5, error_score=nan,\n",
              "             estimator=LogisticRegression(C=1.0, class_weight=None, dual=False,\n",
              "                                          fit_intercept=True,\n",
              "                                          intercept_scaling=1, l1_ratio=None,\n",
              "                                          max_iter=1000, multi_class='auto',\n",
              "                                          n_jobs=None, penalty='l2',\n",
              "                                          random_state=None, solver='lbfgs',\n",
              "                                          tol=0.0001, verbose=0,\n",
              "                                          warm_start=False),\n",
              "             iid='deprecated', n_jobs=-1,\n",
              "             param_grid={'C': [0.01, 0.1, 1, 5, 10], 'penalty': ['l2', 'l1']},\n",
              "             pre_dispatch='2*n_jobs', refit='accuracy',\n",
              "             return_train_score=False,\n",
              "             scoring=['accuracy', 'recall', 'precision'], verbose=0)"
            ]
          },
          "metadata": {
            "tags": []
          },
          "execution_count": 78
        }
      ]
    },
    {
      "cell_type": "code",
      "metadata": {
        "colab": {
          "base_uri": "https://localhost:8080/"
        },
        "id": "jeuOulvxZeOx",
        "outputId": "df45020e-bdbf-46e1-b562-9b478d446f5b"
      },
      "source": [
        "from sklearn.metrics import accuracy_score\n",
        "pred = grid_search.predict(X_test) \n",
        "accuracy_score(y_test, pred)"
      ],
      "execution_count": 79,
      "outputs": [
        {
          "output_type": "execute_result",
          "data": {
            "text/plain": [
              "0.9744641439534268"
            ]
          },
          "metadata": {
            "tags": []
          },
          "execution_count": 79
        }
      ]
    },
    {
      "cell_type": "code",
      "metadata": {
        "colab": {
          "base_uri": "https://localhost:8080/",
          "height": 753
        },
        "id": "1QKsBlxzZeOx",
        "outputId": "93729817-85c6-45e0-fc1a-90aa12c23370"
      },
      "source": [
        "# 하이퍼파라미터 조합별 결과\n",
        "results = pd.DataFrame(grid_search.cv_results_)#.sort_values('')\n",
        "results"
      ],
      "execution_count": 81,
      "outputs": [
        {
          "output_type": "execute_result",
          "data": {
            "text/html": [
              "<div>\n",
              "<style scoped>\n",
              "    .dataframe tbody tr th:only-of-type {\n",
              "        vertical-align: middle;\n",
              "    }\n",
              "\n",
              "    .dataframe tbody tr th {\n",
              "        vertical-align: top;\n",
              "    }\n",
              "\n",
              "    .dataframe thead th {\n",
              "        text-align: right;\n",
              "    }\n",
              "</style>\n",
              "<table border=\"1\" class=\"dataframe\">\n",
              "  <thead>\n",
              "    <tr style=\"text-align: right;\">\n",
              "      <th></th>\n",
              "      <th>mean_fit_time</th>\n",
              "      <th>std_fit_time</th>\n",
              "      <th>mean_score_time</th>\n",
              "      <th>std_score_time</th>\n",
              "      <th>param_C</th>\n",
              "      <th>param_penalty</th>\n",
              "      <th>params</th>\n",
              "      <th>split0_test_accuracy</th>\n",
              "      <th>split1_test_accuracy</th>\n",
              "      <th>split2_test_accuracy</th>\n",
              "      <th>split3_test_accuracy</th>\n",
              "      <th>split4_test_accuracy</th>\n",
              "      <th>mean_test_accuracy</th>\n",
              "      <th>std_test_accuracy</th>\n",
              "      <th>rank_test_accuracy</th>\n",
              "      <th>split0_test_recall</th>\n",
              "      <th>split1_test_recall</th>\n",
              "      <th>split2_test_recall</th>\n",
              "      <th>split3_test_recall</th>\n",
              "      <th>split4_test_recall</th>\n",
              "      <th>mean_test_recall</th>\n",
              "      <th>std_test_recall</th>\n",
              "      <th>rank_test_recall</th>\n",
              "      <th>split0_test_precision</th>\n",
              "      <th>split1_test_precision</th>\n",
              "      <th>split2_test_precision</th>\n",
              "      <th>split3_test_precision</th>\n",
              "      <th>split4_test_precision</th>\n",
              "      <th>mean_test_precision</th>\n",
              "      <th>std_test_precision</th>\n",
              "      <th>rank_test_precision</th>\n",
              "    </tr>\n",
              "  </thead>\n",
              "  <tbody>\n",
              "    <tr>\n",
              "      <th>0</th>\n",
              "      <td>0.340194</td>\n",
              "      <td>0.013823</td>\n",
              "      <td>0.011078</td>\n",
              "      <td>0.000928</td>\n",
              "      <td>0.01</td>\n",
              "      <td>l2</td>\n",
              "      <td>{'C': 0.01, 'penalty': 'l2'}</td>\n",
              "      <td>0.961724</td>\n",
              "      <td>0.959739</td>\n",
              "      <td>0.968528</td>\n",
              "      <td>0.965693</td>\n",
              "      <td>0.970788</td>\n",
              "      <td>0.965295</td>\n",
              "      <td>0.004109</td>\n",
              "      <td>5</td>\n",
              "      <td>0.975519</td>\n",
              "      <td>0.976064</td>\n",
              "      <td>0.981915</td>\n",
              "      <td>0.978191</td>\n",
              "      <td>0.984034</td>\n",
              "      <td>0.979145</td>\n",
              "      <td>0.003320</td>\n",
              "      <td>5</td>\n",
              "      <td>0.953694</td>\n",
              "      <td>0.949793</td>\n",
              "      <td>0.959958</td>\n",
              "      <td>0.958312</td>\n",
              "      <td>0.962019</td>\n",
              "      <td>0.956755</td>\n",
              "      <td>0.004432</td>\n",
              "      <td>5</td>\n",
              "    </tr>\n",
              "    <tr>\n",
              "      <th>1</th>\n",
              "      <td>0.018517</td>\n",
              "      <td>0.000579</td>\n",
              "      <td>0.000000</td>\n",
              "      <td>0.000000</td>\n",
              "      <td>0.01</td>\n",
              "      <td>l1</td>\n",
              "      <td>{'C': 0.01, 'penalty': 'l1'}</td>\n",
              "      <td>NaN</td>\n",
              "      <td>NaN</td>\n",
              "      <td>NaN</td>\n",
              "      <td>NaN</td>\n",
              "      <td>NaN</td>\n",
              "      <td>NaN</td>\n",
              "      <td>NaN</td>\n",
              "      <td>6</td>\n",
              "      <td>NaN</td>\n",
              "      <td>NaN</td>\n",
              "      <td>NaN</td>\n",
              "      <td>NaN</td>\n",
              "      <td>NaN</td>\n",
              "      <td>NaN</td>\n",
              "      <td>NaN</td>\n",
              "      <td>6</td>\n",
              "      <td>NaN</td>\n",
              "      <td>NaN</td>\n",
              "      <td>NaN</td>\n",
              "      <td>NaN</td>\n",
              "      <td>NaN</td>\n",
              "      <td>NaN</td>\n",
              "      <td>NaN</td>\n",
              "      <td>6</td>\n",
              "    </tr>\n",
              "    <tr>\n",
              "      <th>2</th>\n",
              "      <td>0.743033</td>\n",
              "      <td>0.045632</td>\n",
              "      <td>0.012173</td>\n",
              "      <td>0.001918</td>\n",
              "      <td>0.1</td>\n",
              "      <td>l2</td>\n",
              "      <td>{'C': 0.1, 'penalty': 'l2'}</td>\n",
              "      <td>0.967111</td>\n",
              "      <td>0.965410</td>\n",
              "      <td>0.973348</td>\n",
              "      <td>0.968528</td>\n",
              "      <td>0.973057</td>\n",
              "      <td>0.969491</td>\n",
              "      <td>0.003189</td>\n",
              "      <td>4</td>\n",
              "      <td>0.978712</td>\n",
              "      <td>0.980851</td>\n",
              "      <td>0.983511</td>\n",
              "      <td>0.977660</td>\n",
              "      <td>0.983502</td>\n",
              "      <td>0.980847</td>\n",
              "      <td>0.002403</td>\n",
              "      <td>4</td>\n",
              "      <td>0.960313</td>\n",
              "      <td>0.955440</td>\n",
              "      <td>0.967050</td>\n",
              "      <td>0.963818</td>\n",
              "      <td>0.966527</td>\n",
              "      <td>0.962630</td>\n",
              "      <td>0.004317</td>\n",
              "      <td>4</td>\n",
              "    </tr>\n",
              "    <tr>\n",
              "      <th>3</th>\n",
              "      <td>0.018247</td>\n",
              "      <td>0.000456</td>\n",
              "      <td>0.000000</td>\n",
              "      <td>0.000000</td>\n",
              "      <td>0.1</td>\n",
              "      <td>l1</td>\n",
              "      <td>{'C': 0.1, 'penalty': 'l1'}</td>\n",
              "      <td>NaN</td>\n",
              "      <td>NaN</td>\n",
              "      <td>NaN</td>\n",
              "      <td>NaN</td>\n",
              "      <td>NaN</td>\n",
              "      <td>NaN</td>\n",
              "      <td>NaN</td>\n",
              "      <td>7</td>\n",
              "      <td>NaN</td>\n",
              "      <td>NaN</td>\n",
              "      <td>NaN</td>\n",
              "      <td>NaN</td>\n",
              "      <td>NaN</td>\n",
              "      <td>NaN</td>\n",
              "      <td>NaN</td>\n",
              "      <td>7</td>\n",
              "      <td>NaN</td>\n",
              "      <td>NaN</td>\n",
              "      <td>NaN</td>\n",
              "      <td>NaN</td>\n",
              "      <td>NaN</td>\n",
              "      <td>NaN</td>\n",
              "      <td>NaN</td>\n",
              "      <td>7</td>\n",
              "    </tr>\n",
              "    <tr>\n",
              "      <th>4</th>\n",
              "      <td>1.607542</td>\n",
              "      <td>0.137153</td>\n",
              "      <td>0.010925</td>\n",
              "      <td>0.000333</td>\n",
              "      <td>1</td>\n",
              "      <td>l2</td>\n",
              "      <td>{'C': 1, 'penalty': 'l2'}</td>\n",
              "      <td>0.970797</td>\n",
              "      <td>0.967961</td>\n",
              "      <td>0.974766</td>\n",
              "      <td>0.973632</td>\n",
              "      <td>0.973625</td>\n",
              "      <td>0.972156</td>\n",
              "      <td>0.002473</td>\n",
              "      <td>3</td>\n",
              "      <td>0.980841</td>\n",
              "      <td>0.980851</td>\n",
              "      <td>0.984043</td>\n",
              "      <td>0.981915</td>\n",
              "      <td>0.984566</td>\n",
              "      <td>0.982443</td>\n",
              "      <td>0.001578</td>\n",
              "      <td>2</td>\n",
              "      <td>0.964921</td>\n",
              "      <td>0.959917</td>\n",
              "      <td>0.969094</td>\n",
              "      <td>0.969029</td>\n",
              "      <td>0.966562</td>\n",
              "      <td>0.965905</td>\n",
              "      <td>0.003382</td>\n",
              "      <td>3</td>\n",
              "    </tr>\n",
              "    <tr>\n",
              "      <th>5</th>\n",
              "      <td>0.019704</td>\n",
              "      <td>0.001121</td>\n",
              "      <td>0.000000</td>\n",
              "      <td>0.000000</td>\n",
              "      <td>1</td>\n",
              "      <td>l1</td>\n",
              "      <td>{'C': 1, 'penalty': 'l1'}</td>\n",
              "      <td>NaN</td>\n",
              "      <td>NaN</td>\n",
              "      <td>NaN</td>\n",
              "      <td>NaN</td>\n",
              "      <td>NaN</td>\n",
              "      <td>NaN</td>\n",
              "      <td>NaN</td>\n",
              "      <td>8</td>\n",
              "      <td>NaN</td>\n",
              "      <td>NaN</td>\n",
              "      <td>NaN</td>\n",
              "      <td>NaN</td>\n",
              "      <td>NaN</td>\n",
              "      <td>NaN</td>\n",
              "      <td>NaN</td>\n",
              "      <td>8</td>\n",
              "      <td>NaN</td>\n",
              "      <td>NaN</td>\n",
              "      <td>NaN</td>\n",
              "      <td>NaN</td>\n",
              "      <td>NaN</td>\n",
              "      <td>NaN</td>\n",
              "      <td>NaN</td>\n",
              "      <td>8</td>\n",
              "    </tr>\n",
              "    <tr>\n",
              "      <th>6</th>\n",
              "      <td>2.730086</td>\n",
              "      <td>0.127040</td>\n",
              "      <td>0.011067</td>\n",
              "      <td>0.000350</td>\n",
              "      <td>5</td>\n",
              "      <td>l2</td>\n",
              "      <td>{'C': 5, 'penalty': 'l2'}</td>\n",
              "      <td>0.971931</td>\n",
              "      <td>0.968245</td>\n",
              "      <td>0.976467</td>\n",
              "      <td>0.975050</td>\n",
              "      <td>0.976461</td>\n",
              "      <td>0.973631</td>\n",
              "      <td>0.003161</td>\n",
              "      <td>2</td>\n",
              "      <td>0.981373</td>\n",
              "      <td>0.978723</td>\n",
              "      <td>0.985638</td>\n",
              "      <td>0.981383</td>\n",
              "      <td>0.985098</td>\n",
              "      <td>0.982443</td>\n",
              "      <td>0.002583</td>\n",
              "      <td>1</td>\n",
              "      <td>0.966457</td>\n",
              "      <td>0.962343</td>\n",
              "      <td>0.970665</td>\n",
              "      <td>0.972076</td>\n",
              "      <td>0.971144</td>\n",
              "      <td>0.968537</td>\n",
              "      <td>0.003648</td>\n",
              "      <td>2</td>\n",
              "    </tr>\n",
              "    <tr>\n",
              "      <th>7</th>\n",
              "      <td>0.017792</td>\n",
              "      <td>0.000377</td>\n",
              "      <td>0.000000</td>\n",
              "      <td>0.000000</td>\n",
              "      <td>5</td>\n",
              "      <td>l1</td>\n",
              "      <td>{'C': 5, 'penalty': 'l1'}</td>\n",
              "      <td>NaN</td>\n",
              "      <td>NaN</td>\n",
              "      <td>NaN</td>\n",
              "      <td>NaN</td>\n",
              "      <td>NaN</td>\n",
              "      <td>NaN</td>\n",
              "      <td>NaN</td>\n",
              "      <td>9</td>\n",
              "      <td>NaN</td>\n",
              "      <td>NaN</td>\n",
              "      <td>NaN</td>\n",
              "      <td>NaN</td>\n",
              "      <td>NaN</td>\n",
              "      <td>NaN</td>\n",
              "      <td>NaN</td>\n",
              "      <td>9</td>\n",
              "      <td>NaN</td>\n",
              "      <td>NaN</td>\n",
              "      <td>NaN</td>\n",
              "      <td>NaN</td>\n",
              "      <td>NaN</td>\n",
              "      <td>NaN</td>\n",
              "      <td>NaN</td>\n",
              "      <td>9</td>\n",
              "    </tr>\n",
              "    <tr>\n",
              "      <th>8</th>\n",
              "      <td>3.517583</td>\n",
              "      <td>0.290246</td>\n",
              "      <td>0.010310</td>\n",
              "      <td>0.001804</td>\n",
              "      <td>10</td>\n",
              "      <td>l2</td>\n",
              "      <td>{'C': 10, 'penalty': 'l2'}</td>\n",
              "      <td>0.971931</td>\n",
              "      <td>0.968812</td>\n",
              "      <td>0.976751</td>\n",
              "      <td>0.976184</td>\n",
              "      <td>0.976177</td>\n",
              "      <td>0.973971</td>\n",
              "      <td>0.003107</td>\n",
              "      <td>1</td>\n",
              "      <td>0.980309</td>\n",
              "      <td>0.978723</td>\n",
              "      <td>0.985106</td>\n",
              "      <td>0.982447</td>\n",
              "      <td>0.985098</td>\n",
              "      <td>0.982337</td>\n",
              "      <td>0.002549</td>\n",
              "      <td>3</td>\n",
              "      <td>0.967437</td>\n",
              "      <td>0.963351</td>\n",
              "      <td>0.971668</td>\n",
              "      <td>0.973130</td>\n",
              "      <td>0.970635</td>\n",
              "      <td>0.969244</td>\n",
              "      <td>0.003490</td>\n",
              "      <td>1</td>\n",
              "    </tr>\n",
              "    <tr>\n",
              "      <th>9</th>\n",
              "      <td>0.019930</td>\n",
              "      <td>0.002406</td>\n",
              "      <td>0.000000</td>\n",
              "      <td>0.000000</td>\n",
              "      <td>10</td>\n",
              "      <td>l1</td>\n",
              "      <td>{'C': 10, 'penalty': 'l1'}</td>\n",
              "      <td>NaN</td>\n",
              "      <td>NaN</td>\n",
              "      <td>NaN</td>\n",
              "      <td>NaN</td>\n",
              "      <td>NaN</td>\n",
              "      <td>NaN</td>\n",
              "      <td>NaN</td>\n",
              "      <td>10</td>\n",
              "      <td>NaN</td>\n",
              "      <td>NaN</td>\n",
              "      <td>NaN</td>\n",
              "      <td>NaN</td>\n",
              "      <td>NaN</td>\n",
              "      <td>NaN</td>\n",
              "      <td>NaN</td>\n",
              "      <td>10</td>\n",
              "      <td>NaN</td>\n",
              "      <td>NaN</td>\n",
              "      <td>NaN</td>\n",
              "      <td>NaN</td>\n",
              "      <td>NaN</td>\n",
              "      <td>NaN</td>\n",
              "      <td>NaN</td>\n",
              "      <td>10</td>\n",
              "    </tr>\n",
              "  </tbody>\n",
              "</table>\n",
              "</div>"
            ],
            "text/plain": [
              "   mean_fit_time  std_fit_time  mean_score_time  std_score_time param_C  \\\n",
              "0       0.340194      0.013823         0.011078        0.000928    0.01   \n",
              "1       0.018517      0.000579         0.000000        0.000000    0.01   \n",
              "2       0.743033      0.045632         0.012173        0.001918     0.1   \n",
              "3       0.018247      0.000456         0.000000        0.000000     0.1   \n",
              "4       1.607542      0.137153         0.010925        0.000333       1   \n",
              "5       0.019704      0.001121         0.000000        0.000000       1   \n",
              "6       2.730086      0.127040         0.011067        0.000350       5   \n",
              "7       0.017792      0.000377         0.000000        0.000000       5   \n",
              "8       3.517583      0.290246         0.010310        0.001804      10   \n",
              "9       0.019930      0.002406         0.000000        0.000000      10   \n",
              "\n",
              "  param_penalty                        params  split0_test_accuracy  \\\n",
              "0            l2  {'C': 0.01, 'penalty': 'l2'}              0.961724   \n",
              "1            l1  {'C': 0.01, 'penalty': 'l1'}                   NaN   \n",
              "2            l2   {'C': 0.1, 'penalty': 'l2'}              0.967111   \n",
              "3            l1   {'C': 0.1, 'penalty': 'l1'}                   NaN   \n",
              "4            l2     {'C': 1, 'penalty': 'l2'}              0.970797   \n",
              "5            l1     {'C': 1, 'penalty': 'l1'}                   NaN   \n",
              "6            l2     {'C': 5, 'penalty': 'l2'}              0.971931   \n",
              "7            l1     {'C': 5, 'penalty': 'l1'}                   NaN   \n",
              "8            l2    {'C': 10, 'penalty': 'l2'}              0.971931   \n",
              "9            l1    {'C': 10, 'penalty': 'l1'}                   NaN   \n",
              "\n",
              "   split1_test_accuracy  split2_test_accuracy  split3_test_accuracy  \\\n",
              "0              0.959739              0.968528              0.965693   \n",
              "1                   NaN                   NaN                   NaN   \n",
              "2              0.965410              0.973348              0.968528   \n",
              "3                   NaN                   NaN                   NaN   \n",
              "4              0.967961              0.974766              0.973632   \n",
              "5                   NaN                   NaN                   NaN   \n",
              "6              0.968245              0.976467              0.975050   \n",
              "7                   NaN                   NaN                   NaN   \n",
              "8              0.968812              0.976751              0.976184   \n",
              "9                   NaN                   NaN                   NaN   \n",
              "\n",
              "   split4_test_accuracy  mean_test_accuracy  std_test_accuracy  \\\n",
              "0              0.970788            0.965295           0.004109   \n",
              "1                   NaN                 NaN                NaN   \n",
              "2              0.973057            0.969491           0.003189   \n",
              "3                   NaN                 NaN                NaN   \n",
              "4              0.973625            0.972156           0.002473   \n",
              "5                   NaN                 NaN                NaN   \n",
              "6              0.976461            0.973631           0.003161   \n",
              "7                   NaN                 NaN                NaN   \n",
              "8              0.976177            0.973971           0.003107   \n",
              "9                   NaN                 NaN                NaN   \n",
              "\n",
              "   rank_test_accuracy  split0_test_recall  split1_test_recall  \\\n",
              "0                   5            0.975519            0.976064   \n",
              "1                   6                 NaN                 NaN   \n",
              "2                   4            0.978712            0.980851   \n",
              "3                   7                 NaN                 NaN   \n",
              "4                   3            0.980841            0.980851   \n",
              "5                   8                 NaN                 NaN   \n",
              "6                   2            0.981373            0.978723   \n",
              "7                   9                 NaN                 NaN   \n",
              "8                   1            0.980309            0.978723   \n",
              "9                  10                 NaN                 NaN   \n",
              "\n",
              "   split2_test_recall  split3_test_recall  split4_test_recall  \\\n",
              "0            0.981915            0.978191            0.984034   \n",
              "1                 NaN                 NaN                 NaN   \n",
              "2            0.983511            0.977660            0.983502   \n",
              "3                 NaN                 NaN                 NaN   \n",
              "4            0.984043            0.981915            0.984566   \n",
              "5                 NaN                 NaN                 NaN   \n",
              "6            0.985638            0.981383            0.985098   \n",
              "7                 NaN                 NaN                 NaN   \n",
              "8            0.985106            0.982447            0.985098   \n",
              "9                 NaN                 NaN                 NaN   \n",
              "\n",
              "   mean_test_recall  std_test_recall  rank_test_recall  split0_test_precision  \\\n",
              "0          0.979145         0.003320                 5               0.953694   \n",
              "1               NaN              NaN                 6                    NaN   \n",
              "2          0.980847         0.002403                 4               0.960313   \n",
              "3               NaN              NaN                 7                    NaN   \n",
              "4          0.982443         0.001578                 2               0.964921   \n",
              "5               NaN              NaN                 8                    NaN   \n",
              "6          0.982443         0.002583                 1               0.966457   \n",
              "7               NaN              NaN                 9                    NaN   \n",
              "8          0.982337         0.002549                 3               0.967437   \n",
              "9               NaN              NaN                10                    NaN   \n",
              "\n",
              "   split1_test_precision  split2_test_precision  split3_test_precision  \\\n",
              "0               0.949793               0.959958               0.958312   \n",
              "1                    NaN                    NaN                    NaN   \n",
              "2               0.955440               0.967050               0.963818   \n",
              "3                    NaN                    NaN                    NaN   \n",
              "4               0.959917               0.969094               0.969029   \n",
              "5                    NaN                    NaN                    NaN   \n",
              "6               0.962343               0.970665               0.972076   \n",
              "7                    NaN                    NaN                    NaN   \n",
              "8               0.963351               0.971668               0.973130   \n",
              "9                    NaN                    NaN                    NaN   \n",
              "\n",
              "   split4_test_precision  mean_test_precision  std_test_precision  \\\n",
              "0               0.962019             0.956755            0.004432   \n",
              "1                    NaN                  NaN                 NaN   \n",
              "2               0.966527             0.962630            0.004317   \n",
              "3                    NaN                  NaN                 NaN   \n",
              "4               0.966562             0.965905            0.003382   \n",
              "5                    NaN                  NaN                 NaN   \n",
              "6               0.971144             0.968537            0.003648   \n",
              "7                    NaN                  NaN                 NaN   \n",
              "8               0.970635             0.969244            0.003490   \n",
              "9                    NaN                  NaN                 NaN   \n",
              "\n",
              "   rank_test_precision  \n",
              "0                    5  \n",
              "1                    6  \n",
              "2                    4  \n",
              "3                    7  \n",
              "4                    3  \n",
              "5                    8  \n",
              "6                    2  \n",
              "7                    9  \n",
              "8                    1  \n",
              "9                   10  "
            ]
          },
          "metadata": {
            "tags": []
          },
          "execution_count": 81
        }
      ]
    },
    {
      "cell_type": "code",
      "metadata": {
        "id": "7I3JAfsJZeOy"
      },
      "source": [
        "best_param = grid_search.best_params_\n",
        "best_param"
      ],
      "execution_count": null,
      "outputs": []
    },
    {
      "cell_type": "code",
      "metadata": {
        "colab": {
          "base_uri": "https://localhost:8080/"
        },
        "id": "scroIYsDZeOy",
        "outputId": "4fffe7d1-3097-433e-e992-2c0b13a820d8"
      },
      "source": [
        "best_estimator = grid_search.best_estimator_\n",
        "best_estimator"
      ],
      "execution_count": 18,
      "outputs": [
        {
          "output_type": "execute_result",
          "data": {
            "text/plain": [
              "LogisticRegression(C=10, class_weight=None, dual=False, fit_intercept=True,\n",
              "                   intercept_scaling=1, l1_ratio=None, max_iter=1000,\n",
              "                   multi_class='auto', n_jobs=None, penalty='l2',\n",
              "                   random_state=None, solver='lbfgs', tol=0.0001, verbose=0,\n",
              "                   warm_start=False)"
            ]
          },
          "metadata": {
            "tags": []
          },
          "execution_count": 18
        }
      ]
    },
    {
      "cell_type": "code",
      "metadata": {
        "id": "sXDYrJhuiV1p"
      },
      "source": [
        "best_score = grid_search.best_score_\n",
        "best_score"
      ],
      "execution_count": null,
      "outputs": []
    },
    {
      "cell_type": "code",
      "metadata": {
        "colab": {
          "base_uri": "https://localhost:8080/"
        },
        "id": "k84BJ3DlZeOy",
        "outputId": "1238aa6b-a8c3-4413-894f-2e3623354cfd"
      },
      "source": [
        "pred = best_estimator.predict(X_test)\n",
        "print(accuracy_score(y_test, pred))\n",
        "print(classification_report(y_test, pred))"
      ],
      "execution_count": 19,
      "outputs": [
        {
          "output_type": "stream",
          "text": [
            "0.9744641439534268\n",
            "              precision    recall  f1-score   support\n",
            "\n",
            "           0       0.98      0.96      0.97      3507\n",
            "           1       0.97      0.98      0.98      4051\n",
            "\n",
            "    accuracy                           0.97      7558\n",
            "   macro avg       0.98      0.97      0.97      7558\n",
            "weighted avg       0.97      0.97      0.97      7558\n",
            "\n"
          ],
          "name": "stdout"
        }
      ]
    },
    {
      "cell_type": "markdown",
      "metadata": {
        "id": "-_hp2LotZeOz"
      },
      "source": [
        "# SVM\n",
        "\n",
        "## 주요 파라미터 \n",
        "- ``C``는 과적합이면 훈련셋에 타이트하게 맞춘 것이므로 오차허용을 좀 늘려서 공간을 확보해야 하므로 값을 줄인다. (작은 값일 수록 많이 허용)\n",
        "과소적합이면 너무 오차허용을크게 잡은 것이므로 오차허용을 줄여야 하므로 값을 늘린다. (큰값은 적게 허용)\n",
        "- ``gamma`` 방사 기저함수 공식상 감마가 크면 반환값은 작아지고 감마가 작으면 반환값은 커진다. ( −γ  를 곱하므로)\n",
        "- 감마가 작을 수록 값들의 거리가 멀어지고(큰값이 결과로 나오므로) 클 수록 거리가 가까워진다. 그래서 ``gamma`` 가 크면 거리가 타이트해져 과적합이 일어날 수있다. (공간의 여유가 없므으로)"
      ]
    },
    {
      "cell_type": "code",
      "metadata": {
        "id": "xsk9sYC5ZeOz"
      },
      "source": [
        "from sklearn.svm import SVC\n",
        "from sklearn.metrics import accuracy_score"
      ],
      "execution_count": 9,
      "outputs": []
    },
    {
      "cell_type": "code",
      "metadata": {
        "colab": {
          "base_uri": "https://localhost:8080/"
        },
        "id": "Zm6zbMmfZeOz",
        "outputId": "16f1489f-7244-46a8-ed21-fdd3fcd06d48"
      },
      "source": [
        "svc = SVC(kernel='linear', C=0.01, random_state=1)\n",
        "svc.fit(X_train, y_train.values.ravel())"
      ],
      "execution_count": 10,
      "outputs": [
        {
          "output_type": "execute_result",
          "data": {
            "text/plain": [
              "SVC(C=0.01, break_ties=False, cache_size=200, class_weight=None, coef0=0.0,\n",
              "    decision_function_shape='ovr', degree=3, gamma='scale', kernel='linear',\n",
              "    max_iter=-1, probability=False, random_state=1, shrinking=True, tol=0.001,\n",
              "    verbose=False)"
            ]
          },
          "metadata": {
            "tags": []
          },
          "execution_count": 10
        }
      ]
    },
    {
      "cell_type": "code",
      "metadata": {
        "colab": {
          "base_uri": "https://localhost:8080/"
        },
        "id": "BstfrlGSZeOz",
        "outputId": "103bc3be-d95a-404d-aa74-28ffc4bc9a86"
      },
      "source": [
        "pred = svc.predict(X_test)\n",
        "print(accuracy_score(y_test, pred))\n",
        "print(classification_report(y_test, pred))"
      ],
      "execution_count": 22,
      "outputs": [
        {
          "output_type": "stream",
          "text": [
            "0.9711563905795184\n",
            "              precision    recall  f1-score   support\n",
            "\n",
            "           0       0.98      0.96      0.97      3507\n",
            "           1       0.96      0.98      0.97      4051\n",
            "\n",
            "    accuracy                           0.97      7558\n",
            "   macro avg       0.97      0.97      0.97      7558\n",
            "weighted avg       0.97      0.97      0.97      7558\n",
            "\n"
          ],
          "name": "stdout"
        }
      ]
    },
    {
      "cell_type": "code",
      "metadata": {
        "id": "mqNwhJuAZeO0"
      },
      "source": [
        "param_grid = {'C': [0.001, 0.01, 0.1, 1, 10, 100],\n",
        "             'gamma': [0.001, 0.01, 0.1, 1, 10, 100]}"
      ],
      "execution_count": 23,
      "outputs": []
    },
    {
      "cell_type": "code",
      "metadata": {
        "id": "dHRzLYHZZeO0"
      },
      "source": [
        "grid_search = GridSearchCV(svc, param_grid=param_grid, scoring=['accuracy', 'recall', 'precision'], refit=\"accuracy\", cv=5, return_train_score=True)"
      ],
      "execution_count": 24,
      "outputs": []
    },
    {
      "cell_type": "code",
      "metadata": {
        "scrolled": true,
        "colab": {
          "base_uri": "https://localhost:8080/"
        },
        "id": "w9e5DgDUZeO0",
        "outputId": "69e5982a-2e59-4aa5-e0e0-d1e30635536a"
      },
      "source": [
        "grid_search.fit(X_train, y_train.values.ravel())"
      ],
      "execution_count": 25,
      "outputs": [
        {
          "output_type": "execute_result",
          "data": {
            "text/plain": [
              "GridSearchCV(cv=5, error_score=nan,\n",
              "             estimator=SVC(C=0.01, break_ties=False, cache_size=200,\n",
              "                           class_weight=None, coef0=0.0,\n",
              "                           decision_function_shape='ovr', degree=3,\n",
              "                           gamma='scale', kernel='linear', max_iter=-1,\n",
              "                           probability=False, random_state=1, shrinking=True,\n",
              "                           tol=0.001, verbose=False),\n",
              "             iid='deprecated', n_jobs=None,\n",
              "             param_grid={'C': [0.001, 0.01, 0.1, 1, 10, 100],\n",
              "                         'gamma': [0.001, 0.01, 0.1, 1, 10, 100]},\n",
              "             pre_dispatch='2*n_jobs', refit='accuracy', return_train_score=True,\n",
              "             scoring=['accuracy', 'recall', 'precision'], verbose=0)"
            ]
          },
          "metadata": {
            "tags": []
          },
          "execution_count": 25
        }
      ]
    },
    {
      "cell_type": "code",
      "metadata": {
        "colab": {
          "base_uri": "https://localhost:8080/"
        },
        "id": "MyP1-H1wZeO0",
        "outputId": "d3b23769-6373-498b-cc0b-bde09d7c6ac3"
      },
      "source": [
        "best_param = grid_search.best_params_\n",
        "best_param"
      ],
      "execution_count": 26,
      "outputs": [
        {
          "output_type": "execute_result",
          "data": {
            "text/plain": [
              "{'C': 100, 'gamma': 0.001}"
            ]
          },
          "metadata": {
            "tags": []
          },
          "execution_count": 26
        }
      ]
    },
    {
      "cell_type": "code",
      "metadata": {
        "colab": {
          "base_uri": "https://localhost:8080/"
        },
        "id": "2SUMVOq4f-Qr",
        "outputId": "7310620c-bca6-486d-8965-e79e3759d3e0"
      },
      "source": [
        "best_estimator = grid_search.best_estimator_\n",
        "best_estimator"
      ],
      "execution_count": 27,
      "outputs": [
        {
          "output_type": "execute_result",
          "data": {
            "text/plain": [
              "SVC(C=100, break_ties=False, cache_size=200, class_weight=None, coef0=0.0,\n",
              "    decision_function_shape='ovr', degree=3, gamma=0.001, kernel='linear',\n",
              "    max_iter=-1, probability=False, random_state=1, shrinking=True, tol=0.001,\n",
              "    verbose=False)"
            ]
          },
          "metadata": {
            "tags": []
          },
          "execution_count": 27
        }
      ]
    },
    {
      "cell_type": "code",
      "metadata": {
        "colab": {
          "base_uri": "https://localhost:8080/"
        },
        "id": "Q9biYaPKiIWM",
        "outputId": "5860ee73-f7b4-4e80-dc18-ec1ca6e145e0"
      },
      "source": [
        "best_score = grid_search.best_score_\n",
        "best_score"
      ],
      "execution_count": 28,
      "outputs": [
        {
          "output_type": "execute_result",
          "data": {
            "text/plain": [
              "0.9756719776664934"
            ]
          },
          "metadata": {
            "tags": []
          },
          "execution_count": 28
        }
      ]
    },
    {
      "cell_type": "code",
      "metadata": {
        "colab": {
          "base_uri": "https://localhost:8080/"
        },
        "id": "jqf3lvJPZeO1",
        "outputId": "b4f86ef8-a249-4904-f266-09975bfe54d4"
      },
      "source": [
        "pred = grid_search.predict(X_test) \n",
        "print(accuracy_score(y_test, pred))\n",
        "print(classification_report(y_test, pred))"
      ],
      "execution_count": 29,
      "outputs": [
        {
          "output_type": "stream",
          "text": [
            "0.9760518655729029\n",
            "              precision    recall  f1-score   support\n",
            "\n",
            "           0       0.98      0.97      0.97      3507\n",
            "           1       0.97      0.98      0.98      4051\n",
            "\n",
            "    accuracy                           0.98      7558\n",
            "   macro avg       0.98      0.98      0.98      7558\n",
            "weighted avg       0.98      0.98      0.98      7558\n",
            "\n"
          ],
          "name": "stdout"
        }
      ]
    },
    {
      "cell_type": "markdown",
      "metadata": {
        "id": "ekTnVlJuZeO1"
      },
      "source": [
        "# 랜덤 포레스트\n",
        "## 주요 파라미터\n",
        "### n_estimators\n",
        "- 결정트리의 갯수를 지정\n",
        "- Default = 10\n",
        "- 무작정 트리 갯수를 늘리면 성능 좋아지는 것 대비 시간이 걸릴 수 있음\n",
        "### min_samples_split\n",
        "- 노드를 분할하기 위한 최소한의 샘플 데이터수 → 과적합을 제어하는데 사용\n",
        "- Default = 2 → 작게 설정할 수록 분할 노드가 많아져 과적합 가능성 증가\n",
        "\n",
        "### min_samples_leaf\n",
        "- 리프노드가 되기 위해 필요한 최소한의 샘플 데이터수\n",
        "- min_samples_split과 함께 과적합 제어 용도\n",
        "- 불균형 데이터의 경우 특정 클래스의 데이터가 극도로 작을 수 있으므로 작게 설정 필요\n",
        "\n",
        "### max_features\n",
        "- 최적의 분할을 위해 고려할 최대 feature 개수\n",
        "- Default = 'auto' (결정트리에서는 default가 none이었음)\n",
        "- int형으로 지정 →피처 갯수 / float형으로 지정 →비중\n",
        "- sqrt 또는 auto : 전체 피처 중 √(피처개수) 만큼 선정\n",
        "- log : 전체 피처 중 log2(전체 피처 개수) 만큼 선정\n",
        "\n",
        "### max_depth\n",
        "- 트리의 최대 깊이\n",
        "- default = None → 완벽하게 클래스 값이 결정될 때 까지 분할\n",
        "또는 데이터 개수가 min_samples_split보다 작아질 때까지 분할\n",
        "- 깊이가 깊어지면 과적합될 수 있으므로 적절히 제어 필요\n",
        "\n",
        "### max_leaf_nodes\n",
        "- 리프노드의 최대 개수"
      ]
    },
    {
      "cell_type": "code",
      "metadata": {
        "colab": {
          "base_uri": "https://localhost:8080/"
        },
        "id": "vHJ1wJZUZeO1",
        "outputId": "d6bc3c4a-1ebe-46b8-e006-e20fe180e374"
      },
      "source": [
        "from sklearn.ensemble import RandomForestClassifier\n",
        "from sklearn.metrics import accuracy_score\n",
        "\n",
        "model_rf = RandomForestClassifier(max_depth=5)\n",
        "model_rf.fit(X_train, y_train.values.ravel())"
      ],
      "execution_count": 11,
      "outputs": [
        {
          "output_type": "execute_result",
          "data": {
            "text/plain": [
              "RandomForestClassifier(bootstrap=True, ccp_alpha=0.0, class_weight=None,\n",
              "                       criterion='gini', max_depth=5, max_features='auto',\n",
              "                       max_leaf_nodes=None, max_samples=None,\n",
              "                       min_impurity_decrease=0.0, min_impurity_split=None,\n",
              "                       min_samples_leaf=1, min_samples_split=2,\n",
              "                       min_weight_fraction_leaf=0.0, n_estimators=100,\n",
              "                       n_jobs=None, oob_score=False, random_state=None,\n",
              "                       verbose=0, warm_start=False)"
            ]
          },
          "metadata": {
            "tags": []
          },
          "execution_count": 11
        }
      ]
    },
    {
      "cell_type": "code",
      "metadata": {
        "colab": {
          "base_uri": "https://localhost:8080/"
        },
        "id": "lfjfj_Deg97p",
        "outputId": "cbaeb021-5e09-4e04-f23d-94606f7edb64"
      },
      "source": [
        "pred = model_rf.predict(X_test)\n",
        "print(accuracy_score(y_test, pred))\n",
        "print(classification_report(y_test, pred))"
      ],
      "execution_count": 42,
      "outputs": [
        {
          "output_type": "stream",
          "text": [
            "0.9794919290817676\n",
            "              precision    recall  f1-score   support\n",
            "\n",
            "           0       1.00      0.96      0.98      3507\n",
            "           1       0.97      1.00      0.98      4051\n",
            "\n",
            "    accuracy                           0.98      7558\n",
            "   macro avg       0.98      0.98      0.98      7558\n",
            "weighted avg       0.98      0.98      0.98      7558\n",
            "\n"
          ],
          "name": "stdout"
        }
      ]
    },
    {
      "cell_type": "code",
      "metadata": {
        "id": "arSmtpyTZeO2"
      },
      "source": [
        "from sklearn.model_selection import GridSearchCV\n",
        "\n",
        "param_grid = { 'n_estimators' : [10, 100],\n",
        "              'max_depth' : [5, 7, 9],\n",
        "              'min_samples_leaf' : [8, 12, 18],\n",
        "              'min_samples_split' : [8, 16, 20]\n",
        "              }\n",
        "\n",
        "# RandomForestClassifier 객체 생성 후 GridSearchCV 수행\n",
        "# model_rf = RandomForestClassifier(random_state = 0, n_jobs = -1)\n",
        "grid_search = GridSearchCV(model_rf, param_grid=param_grid, cv=3, n_jobs=-1)"
      ],
      "execution_count": 49,
      "outputs": []
    },
    {
      "cell_type": "code",
      "metadata": {
        "colab": {
          "base_uri": "https://localhost:8080/"
        },
        "id": "minD58yPrfkL",
        "outputId": "457d5b87-cd5d-4ac7-fea3-c275036ccbe9"
      },
      "source": [
        "grid_search.fit(X_train, y_train.values.ravel())"
      ],
      "execution_count": 50,
      "outputs": [
        {
          "output_type": "execute_result",
          "data": {
            "text/plain": [
              "GridSearchCV(cv=3, error_score=nan,\n",
              "             estimator=RandomForestClassifier(bootstrap=True, ccp_alpha=0.0,\n",
              "                                              class_weight=None,\n",
              "                                              criterion='gini', max_depth=5,\n",
              "                                              max_features='auto',\n",
              "                                              max_leaf_nodes=None,\n",
              "                                              max_samples=None,\n",
              "                                              min_impurity_decrease=0.0,\n",
              "                                              min_impurity_split=None,\n",
              "                                              min_samples_leaf=1,\n",
              "                                              min_samples_split=2,\n",
              "                                              min_weight_fraction_leaf=0.0,\n",
              "                                              n_estimators=100, n_jobs=None,\n",
              "                                              oob_score=False,\n",
              "                                              random_state=None, verbose=0,\n",
              "                                              warm_start=False),\n",
              "             iid='deprecated', n_jobs=-1,\n",
              "             param_grid={'max_depth': [5, 7, 9],\n",
              "                         'min_samples_leaf': [8, 12, 18],\n",
              "                         'min_samples_split': [8, 16, 20],\n",
              "                         'n_estimators': [10, 100]},\n",
              "             pre_dispatch='2*n_jobs', refit=True, return_train_score=False,\n",
              "             scoring=None, verbose=0)"
            ]
          },
          "metadata": {
            "tags": []
          },
          "execution_count": 50
        }
      ]
    },
    {
      "cell_type": "code",
      "metadata": {
        "colab": {
          "base_uri": "https://localhost:8080/"
        },
        "id": "sJqPyCFLrkWf",
        "outputId": "65451158-1cdb-4a96-ccad-60f70b4897f3"
      },
      "source": [
        "best_param = grid_search.best_params_\n",
        "best_param"
      ],
      "execution_count": 51,
      "outputs": [
        {
          "output_type": "execute_result",
          "data": {
            "text/plain": [
              "{'max_depth': 9,\n",
              " 'min_samples_leaf': 8,\n",
              " 'min_samples_split': 8,\n",
              " 'n_estimators': 10}"
            ]
          },
          "metadata": {
            "tags": []
          },
          "execution_count": 51
        }
      ]
    },
    {
      "cell_type": "code",
      "metadata": {
        "colab": {
          "base_uri": "https://localhost:8080/"
        },
        "id": "hKGqXxFirokX",
        "outputId": "753f5ba5-405c-4c2b-d9f9-66d913c9a827"
      },
      "source": [
        "best_estimator = grid_search.best_estimator_\n",
        "best_estimator"
      ],
      "execution_count": 52,
      "outputs": [
        {
          "output_type": "execute_result",
          "data": {
            "text/plain": [
              "RandomForestClassifier(bootstrap=True, ccp_alpha=0.0, class_weight=None,\n",
              "                       criterion='gini', max_depth=9, max_features='auto',\n",
              "                       max_leaf_nodes=None, max_samples=None,\n",
              "                       min_impurity_decrease=0.0, min_impurity_split=None,\n",
              "                       min_samples_leaf=8, min_samples_split=8,\n",
              "                       min_weight_fraction_leaf=0.0, n_estimators=10,\n",
              "                       n_jobs=None, oob_score=False, random_state=None,\n",
              "                       verbose=0, warm_start=False)"
            ]
          },
          "metadata": {
            "tags": []
          },
          "execution_count": 52
        }
      ]
    },
    {
      "cell_type": "code",
      "metadata": {
        "colab": {
          "base_uri": "https://localhost:8080/"
        },
        "id": "EcQJcBVTrobZ",
        "outputId": "80f7165d-18be-4828-b3ea-8b76bc6125e6"
      },
      "source": [
        "best_score = grid_search.best_score_\n",
        "best_score"
      ],
      "execution_count": 53,
      "outputs": [
        {
          "output_type": "execute_result",
          "data": {
            "text/plain": [
              "0.9902461154587728"
            ]
          },
          "metadata": {
            "tags": []
          },
          "execution_count": 53
        }
      ]
    },
    {
      "cell_type": "code",
      "metadata": {
        "colab": {
          "base_uri": "https://localhost:8080/"
        },
        "id": "5f0aQ10CrfMM",
        "outputId": "957db163-4956-4b23-d1ee-3c261ce0d0ac"
      },
      "source": [
        "pred = grid_search.predict(X_test) \n",
        "print(accuracy_score(y_test, pred))\n",
        "print(classification_report(y_test, pred))"
      ],
      "execution_count": 54,
      "outputs": [
        {
          "output_type": "stream",
          "text": [
            "0.9850489547499338\n",
            "              precision    recall  f1-score   support\n",
            "\n",
            "           0       1.00      0.97      0.98      3507\n",
            "           1       0.98      1.00      0.99      4051\n",
            "\n",
            "    accuracy                           0.99      7558\n",
            "   macro avg       0.99      0.98      0.98      7558\n",
            "weighted avg       0.99      0.99      0.99      7558\n",
            "\n"
          ],
          "name": "stdout"
        }
      ]
    },
    {
      "cell_type": "markdown",
      "metadata": {
        "id": "b3LLGaORjU8F"
      },
      "source": [
        ""
      ]
    },
    {
      "cell_type": "code",
      "metadata": {
        "colab": {
          "base_uri": "https://localhost:8080/"
        },
        "id": "dOB0dBoHc997",
        "outputId": "1be16cae-d571-4f19-fd55-40a53a73622a"
      },
      "source": [
        "from sklearn import metrics\n",
        "from sklearn.model_selection import cross_val_score\n",
        "\n",
        "models = []\n",
        "models.append(('LogisticRegression', model_lr))\n",
        "models.append(('RandomForestClassifier', model_rf))\n",
        "models.append(('SVC', svc))\n",
        "\n",
        "for i, v in models:\n",
        "    scores = cross_val_score(v, X_train, y_train.values.ravel(), cv=10)\n",
        "    accuracy = metrics.accuracy_score(y_train.values.ravel(), v.predict(X_train))\n",
        "    confusion_matrix = metrics.confusion_matrix(y_train.values.ravel(), v.predict(X_train))\n",
        "    classification = metrics.classification_report(y_train.values.ravel(), v.predict(X_train))\n",
        "    print()\n",
        "    print('============================== {} Model Evaluation =============================='.format(i))\n",
        "    print()\n",
        "    print (\"Cross Validation Mean Score:\" \"\\n\", scores.mean())\n",
        "    print()\n",
        "    print (\"Model Accuracy:\" \"\\n\", accuracy)\n",
        "    print()\n",
        "    print(\"Confusion matrix:\" \"\\n\", confusion_matrix)\n",
        "    print()\n",
        "    print(\"Classification report:\" \"\\n\", classification) \n",
        "    print()"
      ],
      "execution_count": 13,
      "outputs": [
        {
          "output_type": "stream",
          "text": [
            "\n",
            "============================== LogisticRegression Model Evaluation ==============================\n",
            "\n",
            "Cross Validation Mean Score:\n",
            " 0.9723267904249997\n",
            "\n",
            "Model Accuracy:\n",
            " 0.9739140297153227\n",
            "\n",
            "Confusion matrix:\n",
            " [[7924  312]\n",
            " [ 148 9250]]\n",
            "\n",
            "Classification report:\n",
            "               precision    recall  f1-score   support\n",
            "\n",
            "     anomaly       0.98      0.96      0.97      8236\n",
            "      normal       0.97      0.98      0.98      9398\n",
            "\n",
            "    accuracy                           0.97     17634\n",
            "   macro avg       0.97      0.97      0.97     17634\n",
            "weighted avg       0.97      0.97      0.97     17634\n",
            "\n",
            "\n",
            "\n",
            "============================== RandomForestClassifier Model Evaluation ==============================\n",
            "\n",
            "Cross Validation Mean Score:\n",
            " 0.979415337698702\n",
            "\n",
            "Model Accuracy:\n",
            " 0.9784507201996144\n",
            "\n",
            "Confusion matrix:\n",
            " [[7914  322]\n",
            " [  58 9340]]\n",
            "\n",
            "Classification report:\n",
            "               precision    recall  f1-score   support\n",
            "\n",
            "     anomaly       0.99      0.96      0.98      8236\n",
            "      normal       0.97      0.99      0.98      9398\n",
            "\n",
            "    accuracy                           0.98     17634\n",
            "   macro avg       0.98      0.98      0.98     17634\n",
            "weighted avg       0.98      0.98      0.98     17634\n",
            "\n",
            "\n",
            "\n",
            "============================== SVC Model Evaluation ==============================\n",
            "\n",
            "Cross Validation Mean Score:\n",
            " 0.9709659568119176\n",
            "\n",
            "Model Accuracy:\n",
            " 0.9722127707837133\n",
            "\n",
            "Confusion matrix:\n",
            " [[7882  354]\n",
            " [ 136 9262]]\n",
            "\n",
            "Classification report:\n",
            "               precision    recall  f1-score   support\n",
            "\n",
            "     anomaly       0.98      0.96      0.97      8236\n",
            "      normal       0.96      0.99      0.97      9398\n",
            "\n",
            "    accuracy                           0.97     17634\n",
            "   macro avg       0.97      0.97      0.97     17634\n",
            "weighted avg       0.97      0.97      0.97     17634\n",
            "\n",
            "\n"
          ],
          "name": "stdout"
        }
      ]
    },
    {
      "cell_type": "code",
      "metadata": {
        "colab": {
          "base_uri": "https://localhost:8080/"
        },
        "id": "xpY8mdWVe1Ua",
        "outputId": "5a8fcc91-ad69-4766-e468-b7b904212584"
      },
      "source": [
        "for i, v in models:\n",
        "    accuracy = metrics.accuracy_score(y_test, v.predict(X_test))\n",
        "    confusion_matrix = metrics.confusion_matrix(y_test, v.predict(X_test))\n",
        "    classification = metrics.classification_report(y_test, v.predict(X_test))\n",
        "    print()\n",
        "    print('============================== {} Model Test Results =============================='.format(i))\n",
        "    print()\n",
        "    print (\"Model Accuracy:\" \"\\n\", accuracy)\n",
        "    print()\n",
        "    print(\"Confusion matrix:\" \"\\n\", confusion_matrix)\n",
        "    print()\n",
        "    print(\"Classification report:\" \"\\n\", classification) \n",
        "    print()        "
      ],
      "execution_count": 14,
      "outputs": [
        {
          "output_type": "stream",
          "text": [
            "\n",
            "============================== LogisticRegression Model Test Results ==============================\n",
            "\n",
            "Model Accuracy:\n",
            " 0.9715533209843874\n",
            "\n",
            "Confusion matrix:\n",
            " [[3363  144]\n",
            " [  71 3980]]\n",
            "\n",
            "Classification report:\n",
            "               precision    recall  f1-score   support\n",
            "\n",
            "     anomaly       0.98      0.96      0.97      3507\n",
            "      normal       0.97      0.98      0.97      4051\n",
            "\n",
            "    accuracy                           0.97      7558\n",
            "   macro avg       0.97      0.97      0.97      7558\n",
            "weighted avg       0.97      0.97      0.97      7558\n",
            "\n",
            "\n",
            "\n",
            "============================== RandomForestClassifier Model Test Results ==============================\n",
            "\n",
            "Model Accuracy:\n",
            " 0.978036517597248\n",
            "\n",
            "Confusion matrix:\n",
            " [[3364  143]\n",
            " [  23 4028]]\n",
            "\n",
            "Classification report:\n",
            "               precision    recall  f1-score   support\n",
            "\n",
            "     anomaly       0.99      0.96      0.98      3507\n",
            "      normal       0.97      0.99      0.98      4051\n",
            "\n",
            "    accuracy                           0.98      7558\n",
            "   macro avg       0.98      0.98      0.98      7558\n",
            "weighted avg       0.98      0.98      0.98      7558\n",
            "\n",
            "\n",
            "\n",
            "============================== SVC Model Test Results ==============================\n",
            "\n",
            "Model Accuracy:\n",
            " 0.9711563905795184\n",
            "\n",
            "Confusion matrix:\n",
            " [[3351  156]\n",
            " [  62 3989]]\n",
            "\n",
            "Classification report:\n",
            "               precision    recall  f1-score   support\n",
            "\n",
            "     anomaly       0.98      0.96      0.97      3507\n",
            "      normal       0.96      0.98      0.97      4051\n",
            "\n",
            "    accuracy                           0.97      7558\n",
            "   macro avg       0.97      0.97      0.97      7558\n",
            "weighted avg       0.97      0.97      0.97      7558\n",
            "\n",
            "\n"
          ],
          "name": "stdout"
        }
      ]
    }
  ]
}